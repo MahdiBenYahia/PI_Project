{
  "cells": [
    {
      "cell_type": "code",
      "execution_count": 1,
      "metadata": {
        "colab": {
          "base_uri": "https://localhost:8080/"
        },
        "id": "3PpiHUOLITzX",
        "outputId": "977ad4e2-fd56-4070-e83c-575db1374891"
      },
      "outputs": [
        {
          "name": "stdout",
          "output_type": "stream",
          "text": [
            "Mounted at /content/drive\n"
          ]
        }
      ],
      "source": [
        "from google.colab import drive\n",
        "drive.mount('/content/drive')\n"
      ]
    },
    {
      "cell_type": "code",
      "execution_count": 2,
      "metadata": {
        "id": "RPv2Rv7cIX89"
      },
      "outputs": [],
      "source": [
        "import os\n",
        "import glob\n",
        "import pandas as pd\n",
        "from PIL import Image\n",
        "import google.generativeai as genai\n"
      ]
    },
    {
      "cell_type": "code",
      "execution_count": null,
      "metadata": {
        "id": "nOo1J1P5Ifll"
      },
      "outputs": [],
      "source": [
        "genai.configure(api_key=\"<Github Token>\")\n",
        "model = genai.GenerativeModel('gemini-2.0-flash')\n"
      ]
    },
    {
      "cell_type": "code",
      "execution_count": 7,
      "metadata": {
        "id": "SrNWNjV1IgPO"
      },
      "outputs": [],
      "source": [
        "def generate_caption(image_path):\n",
        "    try:\n",
        "        with open(image_path, \"rb\") as img_file:\n",
        "            img_bytes = img_file.read()\n",
        "\n",
        "        response = model.generate_content(\n",
        "            contents=[\n",
        "                {\n",
        "                    \"role\": \"user\",\n",
        "                    \"parts\": [\n",
        "                        {\n",
        "                            \"text\": (\n",
        "                                \"Give a short, clear, and factual caption of this monument. \"\n",
        "                                \"Mention the material (stone, marble, etc.), visible damage, \"\n",
        "                                \"and any recognizable artistic style (baroque, gothic, etc.). \"\n",
        "                                \"Don't invent – only describe what is clearly visible.\"\n",
        "                            )\n",
        "                        },\n",
        "                        {\n",
        "                            \"inline_data\": {\n",
        "                                \"mime_type\": \"image/jpeg\",\n",
        "                                \"data\": img_bytes\n",
        "                            }\n",
        "                        }\n",
        "                    ]\n",
        "                }\n",
        "            ]\n",
        "        )\n",
        "\n",
        "        return response.text.strip()\n",
        "\n",
        "    except Exception as e:\n",
        "        return f\"ERROR: {str(e)}\"\n",
        "\n"
      ]
    },
    {
      "cell_type": "code",
      "execution_count": 8,
      "metadata": {
        "colab": {
          "base_uri": "https://localhost:8080/"
        },
        "id": "fdjdVh9iIgKQ",
        "outputId": "b786b56b-1bcf-4c58-d199-d10af7085b88"
      },
      "outputs": [
        {
          "name": "stdout",
          "output_type": "stream",
          "text": [
            "Nombre d'images détectées : 1089\n"
          ]
        }
      ],
      "source": [
        "image_folder = \"/content/drive/MyDrive/monuments_3/Baroque\"  # Modifie selon ton dossier\n",
        "image_paths = [f for f in glob.glob(f\"{image_folder}/**/*\", recursive=True) if f.lower().endswith(('.jpg', '.jpeg', '.png'))]\n",
        "\n",
        "print(\"Nombre d'images détectées :\", len(image_paths))\n"
      ]
    },
    {
      "cell_type": "code",
      "execution_count": 9,
      "metadata": {
        "colab": {
          "base_uri": "https://localhost:8080/",
          "height": 1000
        },
        "id": "TioOOhvQI5AW",
        "outputId": "87975da5-3698-4184-fa55-b721b253aaa7"
      },
      "outputs": [
        {
          "name": "stdout",
          "output_type": "stream",
          "text": [
            "[1/1089] Description de : 150.jpg\n",
            "[2/1089] Description de : 1536.jpg\n",
            "[3/1089] Description de : 15117.jpg\n",
            "[4/1089] Description de : 1513.jpg\n",
            "[5/1089] Description de : 15104.jpg\n",
            "[6/1089] Description de : 15129.jpg\n",
            "[7/1089] Description de : 1546.jpg\n",
            "[8/1089] Description de : 1542.jpg\n",
            "[9/1089] Description de : 15123.jpg\n",
            "[10/1089] Description de : 1514.jpg\n",
            "[11/1089] Description de : 15111.jpg\n",
            "[12/1089] Description de : 1532.jpg\n",
            "[13/1089] Description de : 1537.jpg\n",
            "[14/1089] Description de : 1533.jpg\n",
            "[15/1089] Description de : 15112.jpg\n",
            "[16/1089] Description de : 1544.jpg\n",
            "[17/1089] Description de : 1525.jpg\n",
            "[18/1089] Description de : 15101.jpg\n",
            "[19/1089] Description de : 1523.jpg\n",
            "[20/1089] Description de : 15102.jpg\n",
            "[21/1089] Description de : 15114.jpg\n",
            "[22/1089] Description de : 15120.jpg\n",
            "[23/1089] Description de : 151.jpg\n",
            "[24/1089] Description de : 1547.jpg\n",
            "[25/1089] Description de : 1535.jpg\n",
            "[26/1089] Description de : 1531.jpg\n",
            "[27/1089] Description de : 1517.jpg\n",
            "[28/1089] Description de : 15124.jpg\n",
            "[29/1089] Description de : 15122.jpg\n",
            "[30/1089] Description de : 15118.jpg\n",
            "[31/1089] Description de : 15109.jpg\n",
            "[32/1089] Description de : 1526.jpg\n",
            "[33/1089] Description de : 1527.jpg\n",
            "[34/1089] Description de : 1540.jpg\n",
            "[35/1089] Description de : 153.jpg\n",
            "[36/1089] Description de : 152.jpg\n",
            "[37/1089] Description de : 15108.jpg\n",
            "[38/1089] Description de : 1539.jpg\n",
            "[39/1089] Description de : 1521.jpg\n",
            "[40/1089] Description de : 1528.jpg\n",
            "[41/1089] Description de : 1529.jpg\n",
            "[42/1089] Description de : 15126.jpg\n",
            "[43/1089] Description de : 1530.jpg\n",
            "[44/1089] Description de : 1520.jpg\n",
            "[45/1089] Description de : 1511.jpg\n",
            "[46/1089] Description de : 15113.jpg\n",
            "[47/1089] Description de : 15127.jpg\n",
            "[48/1089] Description de : 15119.jpg\n",
            "[49/1089] Description de : 1518.jpg\n",
            "[50/1089] Description de : 1512.jpg\n",
            "[51/1089] Description de : 1522.jpg\n",
            "[52/1089] Description de : 15107.jpg\n"
          ]
        },
        {
          "name": "stderr",
          "output_type": "stream",
          "text": [
            "WARNING:tornado.access:429 POST /v1beta/models/gemini-2.0-flash:generateContent?%24alt=json%3Benum-encoding%3Dint (127.0.0.1) 812.35ms\n"
          ]
        },
        {
          "name": "stdout",
          "output_type": "stream",
          "text": [
            "[53/1089] Description de : 154.jpg\n",
            "[54/1089] Description de : 1541.jpg\n",
            "[55/1089] Description de : 1519.jpg\n",
            "[56/1089] Description de : 15105.jpg\n",
            "[57/1089] Description de : 1534.jpg\n",
            "[58/1089] Description de : 15125.jpg\n",
            "[59/1089] Description de : 1538.jpg\n",
            "[60/1089] Description de : 15128.jpg\n",
            "[61/1089] Description de : 1515.jpg\n",
            "[62/1089] Description de : 15103.jpg\n",
            "[63/1089] Description de : 15110.jpg\n",
            "[64/1089] Description de : 1545.jpg\n",
            "[65/1089] Description de : 15100.jpg\n",
            "[66/1089] Description de : 1510.jpg\n",
            "[67/1089] Description de : 1543.jpg\n",
            "[68/1089] Description de : 15115.jpg\n",
            "[69/1089] Description de : 15106.jpg\n"
          ]
        },
        {
          "name": "stderr",
          "output_type": "stream",
          "text": [
            "WARNING:tornado.access:429 POST /v1beta/models/gemini-2.0-flash:generateContent?%24alt=json%3Benum-encoding%3Dint (127.0.0.1) 7123.85ms\n"
          ]
        },
        {
          "name": "stdout",
          "output_type": "stream",
          "text": [
            "[70/1089] Description de : 15116.jpg\n"
          ]
        },
        {
          "name": "stderr",
          "output_type": "stream",
          "text": [
            "WARNING:tornado.access:429 POST /v1beta/models/gemini-2.0-flash:generateContent?%24alt=json%3Benum-encoding%3Dint (127.0.0.1) 1951.81ms\n"
          ]
        },
        {
          "name": "stdout",
          "output_type": "stream",
          "text": [
            "[71/1089] Description de : 15121.jpg\n",
            "[72/1089] Description de : 1516.jpg\n",
            "[73/1089] Description de : 1524.jpg\n",
            "[74/1089] Description de : 1573.jpg\n",
            "[75/1089] Description de : 1565.jpg\n",
            "[76/1089] Description de : 1585.jpg\n",
            "[77/1089] Description de : 1588.jpg\n",
            "[78/1089] Description de : 1593.jpg\n",
            "[79/1089] Description de : 1592.jpg\n",
            "[80/1089] Description de : 1568.jpg\n",
            "[81/1089] Description de : 1560.jpg\n",
            "[82/1089] Description de : 1594.jpg\n",
            "[83/1089] Description de : 1562.jpg\n",
            "[84/1089] Description de : 1548.jpg\n",
            "[85/1089] Description de : 1550.jpg\n",
            "[86/1089] Description de : 1581.jpg\n",
            "[87/1089] Description de : 1557.jpg\n",
            "[88/1089] Description de : 1577.jpg\n",
            "[89/1089] Description de : 1572.jpg\n",
            "[90/1089] Description de : 1595.jpg\n",
            "[91/1089] Description de : 1580.jpg\n",
            "[92/1089] Description de : 1561.jpg\n",
            "[93/1089] Description de : 1583.jpg\n",
            "[94/1089] Description de : 1551.jpg\n",
            "[95/1089] Description de : 1564.jpg\n",
            "[96/1089] Description de : 1587.jpg\n",
            "[97/1089] Description de : 1586.jpg\n",
            "[98/1089] Description de : 158.jpg\n",
            "[99/1089] Description de : 159.jpg\n",
            "[100/1089] Description de : 1578.jpg\n",
            "[101/1089] Description de : 155.jpg\n",
            "[102/1089] Description de : 1596.jpg\n",
            "[103/1089] Description de : 1575.jpg\n",
            "[104/1089] Description de : 1556.jpg\n",
            "[105/1089] Description de : 1553.jpg\n",
            "[106/1089] Description de : 1591.jpg\n",
            "[107/1089] Description de : 1590.jpg\n",
            "[108/1089] Description de : 1563.jpg\n",
            "[109/1089] Description de : 1599.jpg\n",
            "[110/1089] Description de : 157.jpg\n",
            "[111/1089] Description de : 1589.jpg\n",
            "[112/1089] Description de : 1584.jpg\n",
            "[113/1089] Description de : 1554.jpg\n",
            "[114/1089] Description de : 1549.jpg\n",
            "[115/1089] Description de : 1552.jpg\n",
            "[116/1089] Description de : 1555.jpg\n",
            "[117/1089] Description de : 1567.jpg\n",
            "[118/1089] Description de : 1558.jpg\n",
            "[119/1089] Description de : 1566.jpg\n",
            "[120/1089] Description de : 1569.jpg\n",
            "[121/1089] Description de : 1598.jpg\n",
            "[122/1089] Description de : 1582.jpg\n",
            "[123/1089] Description de : 1574.jpg\n",
            "[124/1089] Description de : 1597.jpg\n",
            "[125/1089] Description de : 1571.jpg\n",
            "[126/1089] Description de : 156.jpg\n",
            "[127/1089] Description de : 1576.jpg\n",
            "[128/1089] Description de : 1579.jpg\n",
            "[129/1089] Description de : 1559.jpg\n",
            "[130/1089] Description de : 1570.jpg\n",
            "[131/1089] Description de : 1410.jpg\n",
            "[132/1089] Description de : 14100.jpg\n",
            "[133/1089] Description de : 14114.jpg\n"
          ]
        },
        {
          "name": "stderr",
          "output_type": "stream",
          "text": [
            "WARNING:tornado.access:429 POST /v1beta/models/gemini-2.0-flash:generateContent?%24alt=json%3Benum-encoding%3Dint (127.0.0.1) 3407.24ms\n"
          ]
        },
        {
          "name": "stdout",
          "output_type": "stream",
          "text": [
            "[134/1089] Description de : 14110.jpg\n"
          ]
        },
        {
          "name": "stderr",
          "output_type": "stream",
          "text": [
            "WARNING:tornado.access:429 POST /v1beta/models/gemini-2.0-flash:generateContent?%24alt=json%3Benum-encoding%3Dint (127.0.0.1) 1167.58ms\n"
          ]
        },
        {
          "name": "stdout",
          "output_type": "stream",
          "text": [
            "[135/1089] Description de : 141.jpg\n"
          ]
        },
        {
          "name": "stderr",
          "output_type": "stream",
          "text": [
            "WARNING:tornado.access:429 POST /v1beta/models/gemini-2.0-flash:generateContent?%24alt=json%3Benum-encoding%3Dint (127.0.0.1) 1243.10ms\n"
          ]
        },
        {
          "name": "stdout",
          "output_type": "stream",
          "text": [
            "[136/1089] Description de : 14111.jpg\n"
          ]
        },
        {
          "name": "stderr",
          "output_type": "stream",
          "text": [
            "WARNING:tornado.access:429 POST /v1beta/models/gemini-2.0-flash:generateContent?%24alt=json%3Benum-encoding%3Dint (127.0.0.1) 1395.51ms\n"
          ]
        },
        {
          "name": "stdout",
          "output_type": "stream",
          "text": [
            "[137/1089] Description de : 14106.jpg\n",
            "[138/1089] Description de : 14105.jpg\n",
            "[139/1089] Description de : 1411.jpg\n",
            "[140/1089] Description de : 14107.jpg\n",
            "[141/1089] Description de : 14113.jpg\n",
            "[142/1089] Description de : 14109.jpg\n",
            "[143/1089] Description de : 14103.jpg\n",
            "[144/1089] Description de : 14108.jpg\n",
            "[145/1089] Description de : 14102.jpg\n",
            "[146/1089] Description de : 14104.jpg\n",
            "[147/1089] Description de : 14101.jpg\n",
            "[148/1089] Description de : 14112.jpg\n",
            "[149/1089] Description de : 123.pushkin-saint-petersburg-russia-fragment-facade-catherine-palace-atlanteans-hold-cornice-monument-russian-baroque-212180931.jpg\n",
            "[150/1089] Description de : 1428.jpg\n",
            "[151/1089] Description de : 14133.jpg\n",
            "[152/1089] Description de : 1416.jpg\n",
            "[153/1089] Description de : 14137.jpg\n",
            "[154/1089] Description de : 14129.jpg\n",
            "[155/1089] Description de : 14131.jpg\n",
            "[156/1089] Description de : 14119.jpg\n",
            "[157/1089] Description de : 14121.jpg\n",
            "[158/1089] Description de : 1418.jpg\n",
            "[159/1089] Description de : 14154.jpg\n",
            "[160/1089] Description de : 14118.jpg\n",
            "[161/1089] Description de : 14126.jpg\n",
            "[162/1089] Description de : 14134.jpg\n",
            "[163/1089] Description de : 14156.jpg\n",
            "[164/1089] Description de : 142.jpg\n",
            "[165/1089] Description de : 14148.jpg\n"
          ]
        },
        {
          "name": "stderr",
          "output_type": "stream",
          "text": [
            "WARNING:tornado.access:429 POST /v1beta/models/gemini-2.0-flash:generateContent?%24alt=json%3Benum-encoding%3Dint (127.0.0.1) 1800.60ms\n"
          ]
        },
        {
          "name": "stdout",
          "output_type": "stream",
          "text": [
            "[166/1089] Description de : 14161.jpg\n"
          ]
        },
        {
          "name": "stderr",
          "output_type": "stream",
          "text": [
            "WARNING:tornado.access:429 POST /v1beta/models/gemini-2.0-flash:generateContent?%24alt=json%3Benum-encoding%3Dint (127.0.0.1) 1623.25ms\n"
          ]
        },
        {
          "name": "stdout",
          "output_type": "stream",
          "text": [
            "[167/1089] Description de : 14144.jpg\n"
          ]
        },
        {
          "name": "stderr",
          "output_type": "stream",
          "text": [
            "WARNING:tornado.access:429 POST /v1beta/models/gemini-2.0-flash:generateContent?%24alt=json%3Benum-encoding%3Dint (127.0.0.1) 1165.83ms\n"
          ]
        },
        {
          "name": "stdout",
          "output_type": "stream",
          "text": [
            "[168/1089] Description de : 14158.jpg\n"
          ]
        },
        {
          "name": "stderr",
          "output_type": "stream",
          "text": [
            "ERROR:tornado.access:500 POST /v1beta/models/gemini-2.0-flash:generateContent?%24alt=json%3Benum-encoding%3Dint (127.0.0.1) 3027.75ms\n"
          ]
        },
        {
          "name": "stdout",
          "output_type": "stream",
          "text": [
            "[169/1089] Description de : 14149.jpg\n",
            "[170/1089] Description de : 14127.jpg\n",
            "[171/1089] Description de : 1419.jpg\n",
            "[172/1089] Description de : 14159.jpg\n",
            "[173/1089] Description de : 14163.jpg\n",
            "[174/1089] Description de : 14139.jpg\n",
            "[175/1089] Description de : 14124.jpg\n",
            "[176/1089] Description de : 14116.jpg\n",
            "[177/1089] Description de : 14147.jpg\n",
            "[178/1089] Description de : 14115.jpg\n",
            "[179/1089] Description de : 1423.jpg\n",
            "[180/1089] Description de : 14153.jpg\n",
            "[181/1089] Description de : 1422.jpg\n",
            "[182/1089] Description de : 1414.jpg\n",
            "[183/1089] Description de : 14160.jpg\n",
            "[184/1089] Description de : 14151.jpg\n",
            "[185/1089] Description de : 14165.jpg\n"
          ]
        },
        {
          "name": "stderr",
          "output_type": "stream",
          "text": [
            "WARNING:tornado.access:429 POST /v1beta/models/gemini-2.0-flash:generateContent?%24alt=json%3Benum-encoding%3Dint (127.0.0.1) 2563.61ms\n"
          ]
        },
        {
          "name": "stdout",
          "output_type": "stream",
          "text": [
            "[186/1089] Description de : 1425.jpg\n"
          ]
        },
        {
          "name": "stderr",
          "output_type": "stream",
          "text": [
            "WARNING:tornado.access:429 POST /v1beta/models/gemini-2.0-flash:generateContent?%24alt=json%3Benum-encoding%3Dint (127.0.0.1) 1292.33ms\n"
          ]
        },
        {
          "name": "stdout",
          "output_type": "stream",
          "text": [
            "[187/1089] Description de : 14122.jpg\n"
          ]
        },
        {
          "name": "stderr",
          "output_type": "stream",
          "text": [
            "WARNING:tornado.access:429 POST /v1beta/models/gemini-2.0-flash:generateContent?%24alt=json%3Benum-encoding%3Dint (127.0.0.1) 4648.35ms\n"
          ]
        },
        {
          "name": "stdout",
          "output_type": "stream",
          "text": [
            "[188/1089] Description de : 14162.jpg\n"
          ]
        },
        {
          "name": "stderr",
          "output_type": "stream",
          "text": [
            "WARNING:tornado.access:429 POST /v1beta/models/gemini-2.0-flash:generateContent?%24alt=json%3Benum-encoding%3Dint (127.0.0.1) 458.81ms\n"
          ]
        },
        {
          "name": "stdout",
          "output_type": "stream",
          "text": [
            "[189/1089] Description de : 1424.jpg\n",
            "[190/1089] Description de : 14120.jpg\n",
            "[191/1089] Description de : 14141.jpg\n",
            "[192/1089] Description de : 1421.jpg\n",
            "[193/1089] Description de : 14125.jpg\n",
            "[194/1089] Description de : 14150.jpg\n",
            "[195/1089] Description de : 1413.jpg\n",
            "[196/1089] Description de : 14138.jpg\n",
            "[197/1089] Description de : 14146.jpg\n",
            "[198/1089] Description de : 1420.jpg\n",
            "[199/1089] Description de : 14164.jpg\n",
            "[200/1089] Description de : 14123.jpg\n",
            "[201/1089] Description de : 1431.jpg\n",
            "[202/1089] Description de : 14155.jpg\n",
            "[203/1089] Description de : 1427.jpg\n",
            "[204/1089] Description de : 14142.jpg\n",
            "[205/1089] Description de : 14135.jpg\n",
            "[206/1089] Description de : 14143.jpg\n",
            "[207/1089] Description de : 14145.jpg\n",
            "[208/1089] Description de : 14140.jpg\n",
            "[209/1089] Description de : 14166.jpg\n",
            "[210/1089] Description de : 143.jpg\n",
            "[211/1089] Description de : 14128.jpg\n",
            "[212/1089] Description de : 1429.jpg\n",
            "[213/1089] Description de : 14157.jpg\n",
            "[214/1089] Description de : 1415.jpg\n",
            "[215/1089] Description de : 1430.jpg\n",
            "[216/1089] Description de : 1432.jpg\n",
            "[217/1089] Description de : 1426.jpg\n",
            "[218/1089] Description de : 1417.jpg\n",
            "[219/1089] Description de : 14136.jpg\n",
            "[220/1089] Description de : 14152.jpg\n",
            "[221/1089] Description de : 1412.jpg\n",
            "[222/1089] Description de : 14132.jpg\n",
            "[223/1089] Description de : 14117.jpg\n",
            "[224/1089] Description de : 14130.jpg\n",
            "[225/1089] Description de : 1493.jpg\n",
            "[226/1089] Description de : 1485.jpg\n",
            "[227/1089] Description de : 1456.jpg\n",
            "[228/1089] Description de : 238.peterhof-saint-petersburg-russia-nizhny-park-fountain-alley-facade-grand-palace-russian-baroque-style-xviii-century-212174203.jpg\n",
            "[229/1089] Description de : 1457.jpg\n",
            "[230/1089] Description de : 1467.jpg\n",
            "[231/1089] Description de : 1477.jpg\n",
            "[232/1089] Description de : 1444.jpg\n",
            "[233/1089] Description de : 1496.jpg\n",
            "[234/1089] Description de : 1495.jpg\n",
            "[235/1089] Description de : 1441.jpg\n",
            "[236/1089] Description de : 146.jpg\n",
            "[237/1089] Description de : 168.saint-petersburg-russia-arch-over-porch-winter-palace-square-monument-russian-baroque-architecture-xviii-century-212036513.jpg\n",
            "[238/1089] Description de : 1446.jpg\n",
            "[239/1089] Description de : 1442.jpg\n",
            "[240/1089] Description de : 1448.jpg\n",
            "[241/1089] Description de : 1460.jpg\n",
            "[242/1089] Description de : 1438.jpg\n",
            "[243/1089] Description de : 1435.jpg\n",
            "[244/1089] Description de : 1498.jpg\n",
            "[245/1089] Description de : 1484.jpg\n",
            "[246/1089] Description de : 1434.jpg\n",
            "[247/1089] Description de : 1459.jpg\n",
            "[248/1089] Description de : 1474.jpg\n",
            "[249/1089] Description de : 39.pushkin-saint-petersburg-russia-facade-catherine-palace-monument-russian-baroque-architecture-xviii-century-unesco-site-212181123.jpg\n"
          ]
        },
        {
          "name": "stderr",
          "output_type": "stream",
          "text": [
            "WARNING:tornado.access:429 POST /v1beta/models/gemini-2.0-flash:generateContent?%24alt=json%3Benum-encoding%3Dint (127.0.0.1) 1218.29ms\n"
          ]
        },
        {
          "name": "stdout",
          "output_type": "stream",
          "text": [
            "[250/1089] Description de : 1462.jpg\n"
          ]
        },
        {
          "name": "stderr",
          "output_type": "stream",
          "text": [
            "WARNING:tornado.access:429 POST /v1beta/models/gemini-2.0-flash:generateContent?%24alt=json%3Benum-encoding%3Dint (127.0.0.1) 1152.20ms\n"
          ]
        },
        {
          "name": "stdout",
          "output_type": "stream",
          "text": [
            "[251/1089] Description de : 149.jpg\n",
            "[252/1089] Description de : 1497.jpg\n",
            "[253/1089] Description de : 1436.jpg\n",
            "[254/1089] Description de : 1454.jpg\n",
            "[255/1089] Description de : 1473.jpg\n",
            "[256/1089] Description de : 1453.jpg\n",
            "[257/1089] Description de : 1486.jpg\n",
            "[258/1089] Description de : 1489.jpg\n",
            "[259/1089] Description de : 1455.jpg\n",
            "[260/1089] Description de : 1471.jpg\n",
            "[261/1089] Description de : 1488.jpg\n",
            "[262/1089] Description de : 1491.jpg\n",
            "[263/1089] Description de : 1447.jpg\n",
            "[264/1089] Description de : 1494.jpg\n",
            "[265/1089] Description de : 1449.jpg\n",
            "[266/1089] Description de : 1476.jpg\n",
            "[267/1089] Description de : 145.jpg\n",
            "[268/1089] Description de : 144.jpg\n",
            "[269/1089] Description de : 1492.jpg\n",
            "[270/1089] Description de : 1443.jpg\n",
            "[271/1089] Description de : 1490.jpg\n",
            "[272/1089] Description de : 1458.jpg\n",
            "[273/1089] Description de : 1468.jpg\n",
            "[274/1089] Description de : 1478.jpg\n",
            "[275/1089] Description de : 1480.jpg\n",
            "[276/1089] Description de : 1475.jpg\n",
            "[277/1089] Description de : 147.jpg\n",
            "[278/1089] Description de : 1433.jpg\n",
            "[279/1089] Description de : 1451.jpg\n",
            "[280/1089] Description de : 1450.jpg\n",
            "[281/1089] Description de : 1437.jpg\n",
            "[282/1089] Description de : 1470.jpg\n",
            "[283/1089] Description de : 1466.jpg\n",
            "[284/1089] Description de : 1440.jpg\n",
            "[285/1089] Description de : 1463.jpg\n",
            "[286/1089] Description de : 1465.jpg\n",
            "[287/1089] Description de : 1483.jpg\n",
            "[288/1089] Description de : 1439.jpg\n",
            "[289/1089] Description de : 1499.jpg\n",
            "[290/1089] Description de : 1481.jpg\n",
            "[291/1089] Description de : 1472.jpg\n",
            "[292/1089] Description de : 1461.jpg\n",
            "[293/1089] Description de : 1487.jpg\n",
            "[294/1089] Description de : 1482.jpg\n"
          ]
        },
        {
          "name": "stderr",
          "output_type": "stream",
          "text": [
            "WARNING:tornado.access:429 POST /v1beta/models/gemini-2.0-flash:generateContent?%24alt=json%3Benum-encoding%3Dint (127.0.0.1) 2282.29ms\n"
          ]
        },
        {
          "name": "stdout",
          "output_type": "stream",
          "text": [
            "[295/1089] Description de : 1479.jpg\n",
            "[296/1089] Description de : 1452.jpg\n",
            "[297/1089] Description de : 1469.jpg\n",
            "[298/1089] Description de : 1445.jpg\n",
            "[299/1089] Description de : 1464.jpg\n",
            "[300/1089] Description de : 148.jpg\n",
            "[301/1089] Description de : 202.pushkin-saint-petersburg-russia-facade-catherine-palace-morning-monument-russian-baroque-architecture-xviii-century-212180919.jpg\n",
            "[302/1089] Description de : 12100.jpg\n",
            "[303/1089] Description de : 12101.jpg\n",
            "[304/1089] Description de : 12106.jpg\n",
            "[305/1089] Description de : 12103.jpg\n",
            "[306/1089] Description de : 121.jpg\n",
            "[307/1089] Description de : 120.jpg\n",
            "[308/1089] Description de : 1210.jpg\n",
            "[309/1089] Description de : 12107.jpg\n",
            "[310/1089] Description de : 12105.jpg\n",
            "[311/1089] Description de : 12102.jpg\n",
            "[312/1089] Description de : 12104.jpg\n",
            "[313/1089] Description de : 12116.jpg\n",
            "[314/1089] Description de : 12113.jpg\n",
            "[315/1089] Description de : 12108.jpg\n",
            "[316/1089] Description de : 12121.jpg\n",
            "[317/1089] Description de : 1211.jpg\n",
            "[318/1089] Description de : 12110.jpg\n",
            "[319/1089] Description de : 12120.jpg\n",
            "[320/1089] Description de : 12115.jpg\n",
            "[321/1089] Description de : 12123.jpg\n",
            "[322/1089] Description de : 12117.jpg\n",
            "[323/1089] Description de : 12112.jpg\n",
            "[324/1089] Description de : 12122.jpg\n",
            "[325/1089] Description de : 1212.jpg\n",
            "[326/1089] Description de : 12119.jpg\n",
            "[327/1089] Description de : 12114.jpg\n",
            "[328/1089] Description de : 12109.jpg\n",
            "[329/1089] Description de : 12118.jpg\n",
            "[330/1089] Description de : 12111.jpg\n",
            "[331/1089] Description de : 12124.jpg\n",
            "[332/1089] Description de : 1255.jpg\n",
            "[333/1089] Description de : 1262.jpg\n",
            "[334/1089] Description de : 1246.jpg\n",
            "[335/1089] Description de : 1267.jpg\n",
            "[336/1089] Description de : 1226.jpg\n",
            "[337/1089] Description de : 1266.jpg\n",
            "[338/1089] Description de : 1221.jpg\n",
            "[339/1089] Description de : 1257.jpg\n",
            "[340/1089] Description de : 12126.jpg\n",
            "[341/1089] Description de : 1233.jpg\n",
            "[342/1089] Description de : 1256.jpg\n",
            "[343/1089] Description de : 127.jpg\n",
            "[344/1089] Description de : 1228.jpg\n",
            "[345/1089] Description de : 1217.jpg\n",
            "[346/1089] Description de : 1235.jpg\n",
            "[347/1089] Description de : 1236.jpg\n",
            "[348/1089] Description de : 1241.jpg\n"
          ]
        },
        {
          "name": "stderr",
          "output_type": "stream",
          "text": [
            "WARNING:tornado.access:429 POST /v1beta/models/gemini-2.0-flash:generateContent?%24alt=json%3Benum-encoding%3Dint (127.0.0.1) 735.55ms\n"
          ]
        },
        {
          "name": "stdout",
          "output_type": "stream",
          "text": [
            "[349/1089] Description de : 1263.jpg\n"
          ]
        },
        {
          "name": "stderr",
          "output_type": "stream",
          "text": [
            "WARNING:tornado.access:429 POST /v1beta/models/gemini-2.0-flash:generateContent?%24alt=json%3Benum-encoding%3Dint (127.0.0.1) 863.10ms\n"
          ]
        },
        {
          "name": "stdout",
          "output_type": "stream",
          "text": [
            "[350/1089] Description de : 1225.jpg\n"
          ]
        },
        {
          "name": "stderr",
          "output_type": "stream",
          "text": [
            "WARNING:tornado.access:429 POST /v1beta/models/gemini-2.0-flash:generateContent?%24alt=json%3Benum-encoding%3Dint (127.0.0.1) 2740.16ms\n"
          ]
        },
        {
          "name": "stdout",
          "output_type": "stream",
          "text": [
            "[351/1089] Description de : 1252.jpg\n"
          ]
        },
        {
          "name": "stderr",
          "output_type": "stream",
          "text": [
            "WARNING:tornado.access:429 POST /v1beta/models/gemini-2.0-flash:generateContent?%24alt=json%3Benum-encoding%3Dint (127.0.0.1) 11307.52ms\n"
          ]
        },
        {
          "name": "stdout",
          "output_type": "stream",
          "text": [
            "[352/1089] Description de : 1219.jpg\n"
          ]
        },
        {
          "name": "stderr",
          "output_type": "stream",
          "text": [
            "WARNING:tornado.access:429 POST /v1beta/models/gemini-2.0-flash:generateContent?%24alt=json%3Benum-encoding%3Dint (127.0.0.1) 1524.69ms\n"
          ]
        },
        {
          "name": "stdout",
          "output_type": "stream",
          "text": [
            "[353/1089] Description de : 1264.jpg\n",
            "[354/1089] Description de : 1253.jpg\n",
            "[355/1089] Description de : 124.jpg\n",
            "[356/1089] Description de : 1227.jpg\n",
            "[357/1089] Description de : 1215.jpg\n",
            "[358/1089] Description de : 1260.jpg\n",
            "[359/1089] Description de : 1248.jpg\n",
            "[360/1089] Description de : 1231.jpg\n",
            "[361/1089] Description de : 1238.jpg\n",
            "[362/1089] Description de : 1232.jpg\n",
            "[363/1089] Description de : 123.jpg\n",
            "[364/1089] Description de : 1223.jpg\n",
            "[365/1089] Description de : 1220.jpg\n",
            "[366/1089] Description de : 12127.jpg\n",
            "[367/1089] Description de : 1224.jpg\n",
            "[368/1089] Description de : 1254.jpg\n",
            "[369/1089] Description de : 1245.jpg\n",
            "[370/1089] Description de : 1244.jpg\n",
            "[371/1089] Description de : 1216.jpg\n",
            "[372/1089] Description de : 1265.jpg\n",
            "[373/1089] Description de : 1242.jpg\n",
            "[374/1089] Description de : 1229.jpg\n",
            "[375/1089] Description de : 1237.jpg\n",
            "[376/1089] Description de : 12125.jpg\n",
            "[377/1089] Description de : 1218.jpg\n",
            "[378/1089] Description de : 1222.jpg\n",
            "[379/1089] Description de : 1230.jpg\n",
            "[380/1089] Description de : 1259.jpg\n",
            "[381/1089] Description de : 1234.jpg\n",
            "[382/1089] Description de : 125.jpg\n",
            "[383/1089] Description de : 1250.jpg\n",
            "[384/1089] Description de : 1247.jpg\n",
            "[385/1089] Description de : 1261.jpg\n",
            "[386/1089] Description de : 1249.jpg\n",
            "[387/1089] Description de : 1251.jpg\n",
            "[388/1089] Description de : 1258.jpg\n",
            "[389/1089] Description de : 1239.jpg\n",
            "[390/1089] Description de : 126.jpg\n",
            "[391/1089] Description de : 1214.jpg\n",
            "[392/1089] Description de : 122.jpg\n",
            "[393/1089] Description de : 1268.jpg\n",
            "[394/1089] Description de : 1243.jpg\n",
            "[395/1089] Description de : 1270.jpg\n",
            "[396/1089] Description de : 1213.jpg\n",
            "[397/1089] Description de : 1269.jpg\n",
            "[398/1089] Description de : 1240.jpg\n",
            "[399/1089] Description de : 1279.jpg\n",
            "[400/1089] Description de : 1294.jpg\n",
            "[401/1089] Description de : 1299.jpg\n",
            "[402/1089] Description de : 1298.jpg\n",
            "[403/1089] Description de : 1297.jpg\n",
            "[404/1089] Description de : 1287.jpg\n",
            "[405/1089] Description de : 1288.jpg\n",
            "[406/1089] Description de : 1271.jpg\n",
            "[407/1089] Description de : 1280.jpg\n",
            "[408/1089] Description de : 1278.jpg\n",
            "[409/1089] Description de : 1276.jpg\n",
            "[410/1089] Description de : 1273.jpg\n",
            "[411/1089] Description de : 1296.jpg\n",
            "[412/1089] Description de : 1291.jpg\n",
            "[413/1089] Description de : 128.jpg\n",
            "[414/1089] Description de : 1292.jpg\n",
            "[415/1089] Description de : 1284.jpg\n",
            "[416/1089] Description de : 1285.jpg\n",
            "[417/1089] Description de : 129.jpg\n",
            "[418/1089] Description de : 1293.jpg\n",
            "[419/1089] Description de : 1272.jpg\n",
            "[420/1089] Description de : 1281.jpg\n",
            "[421/1089] Description de : 1275.jpg\n",
            "[422/1089] Description de : 1295.jpg\n",
            "[423/1089] Description de : 1290.jpg\n",
            "[424/1089] Description de : 1274.jpg\n",
            "[425/1089] Description de : 1289.jpg\n",
            "[426/1089] Description de : 1282.jpg\n",
            "[427/1089] Description de : 1277.jpg\n",
            "[428/1089] Description de : 1283.jpg\n",
            "[429/1089] Description de : 1286.jpg\n",
            "[430/1089] Description de : 42.faade-of-the-church-of-our-lady-of-good-success-built-in-the-18th-century-after-the-great-earthquake-of-1755-in-baroque-style-in-cacilhas-portugal-2bhfjh9.jpg\n",
            "[431/1089] Description de : 48.san-francesco-is-one-of-many-new-churches-built-after-the-city-of-noto-was-virtually-destroyed-by-the-earthquake-of-1693-baroque-style-ppxpcd.jpg\n",
            "[432/1089] Description de : 133.cdn.cliqueinc.com__cache__posts__263667__baroque-architecture-263667-1532383064451-image.700x0c-29c3619679c2442983337e42db522fcc.jpg\n",
            "[433/1089] Description de : 100.jpg\n",
            "[434/1089] Description de : 1069.jpg\n",
            "[435/1089] Description de : 1080.jpg\n",
            "[436/1089] Description de : 108.jpg\n",
            "[437/1089] Description de : 1057.jpg\n",
            "[438/1089] Description de : 1068.jpg\n",
            "[439/1089] Description de : 1017.jpg\n",
            "[440/1089] Description de : 1063.jpg\n",
            "[441/1089] Description de : 10106.jpg\n",
            "[442/1089] Description de : 1019.jpg\n",
            "[443/1089] Description de : 1033.jpg\n",
            "[444/1089] Description de : 1044.jpg\n"
          ]
        },
        {
          "name": "stderr",
          "output_type": "stream",
          "text": [
            "ERROR:tornado.access:500 POST /v1beta/models/gemini-2.0-flash:generateContent?%24alt=json%3Benum-encoding%3Dint (127.0.0.1) 55525.25ms\n"
          ]
        },
        {
          "name": "stdout",
          "output_type": "stream",
          "text": [
            "[445/1089] Description de : 1014.jpg\n",
            "[446/1089] Description de : 1060.jpg\n",
            "[447/1089] Description de : 1061.jpg\n",
            "[448/1089] Description de : 10114.jpg\n",
            "[449/1089] Description de : 1040.jpg\n",
            "[450/1089] Description de : 1025.jpg\n",
            "[451/1089] Description de : 106.jpg\n",
            "[452/1089] Description de : 1031.jpg\n",
            "[453/1089] Description de : 1048.jpg\n",
            "[454/1089] Description de : 1051.jpg\n",
            "[455/1089] Description de : 104.jpg\n",
            "[456/1089] Description de : 1011.jpg\n",
            "[457/1089] Description de : 1012.jpg\n",
            "[458/1089] Description de : 1015.jpg\n",
            "[459/1089] Description de : 1039.jpg\n",
            "[460/1089] Description de : 103.jpg\n",
            "[461/1089] Description de : 1023.jpg\n"
          ]
        },
        {
          "name": "stderr",
          "output_type": "stream",
          "text": [
            "WARNING:tornado.access:429 POST /v1beta/models/gemini-2.0-flash:generateContent?%24alt=json%3Benum-encoding%3Dint (127.0.0.1) 1345.38ms\n"
          ]
        },
        {
          "name": "stdout",
          "output_type": "stream",
          "text": [
            "[462/1089] Description de : 1047.jpg\n"
          ]
        },
        {
          "name": "stderr",
          "output_type": "stream",
          "text": [
            "WARNING:tornado.access:429 POST /v1beta/models/gemini-2.0-flash:generateContent?%24alt=json%3Benum-encoding%3Dint (127.0.0.1) 638.03ms\n"
          ]
        },
        {
          "name": "stdout",
          "output_type": "stream",
          "text": [
            "[463/1089] Description de : 1054.jpg\n"
          ]
        },
        {
          "name": "stderr",
          "output_type": "stream",
          "text": [
            "WARNING:tornado.access:429 POST /v1beta/models/gemini-2.0-flash:generateContent?%24alt=json%3Benum-encoding%3Dint (127.0.0.1) 1853.61ms\n"
          ]
        },
        {
          "name": "stdout",
          "output_type": "stream",
          "text": [
            "[464/1089] Description de : 1059.jpg\n"
          ]
        },
        {
          "name": "stderr",
          "output_type": "stream",
          "text": [
            "WARNING:tornado.access:429 POST /v1beta/models/gemini-2.0-flash:generateContent?%24alt=json%3Benum-encoding%3Dint (127.0.0.1) 3157.00ms\n"
          ]
        },
        {
          "name": "stdout",
          "output_type": "stream",
          "text": [
            "[465/1089] Description de : 1078.jpg\n"
          ]
        },
        {
          "name": "stderr",
          "output_type": "stream",
          "text": [
            "WARNING:tornado.access:429 POST /v1beta/models/gemini-2.0-flash:generateContent?%24alt=json%3Benum-encoding%3Dint (127.0.0.1) 482.39ms\n"
          ]
        },
        {
          "name": "stdout",
          "output_type": "stream",
          "text": [
            "[466/1089] Description de : 1036.jpg\n"
          ]
        },
        {
          "name": "stderr",
          "output_type": "stream",
          "text": [
            "WARNING:tornado.access:429 POST /v1beta/models/gemini-2.0-flash:generateContent?%24alt=json%3Benum-encoding%3Dint (127.0.0.1) 989.84ms\n"
          ]
        },
        {
          "name": "stdout",
          "output_type": "stream",
          "text": [
            "[467/1089] Description de : 1076.jpg\n"
          ]
        },
        {
          "name": "stderr",
          "output_type": "stream",
          "text": [
            "WARNING:tornado.access:429 POST /v1beta/models/gemini-2.0-flash:generateContent?%24alt=json%3Benum-encoding%3Dint (127.0.0.1) 635.48ms\n"
          ]
        },
        {
          "name": "stdout",
          "output_type": "stream",
          "text": [
            "[468/1089] Description de : 1022.jpg\n"
          ]
        },
        {
          "name": "stderr",
          "output_type": "stream",
          "text": [
            "WARNING:tornado.access:429 POST /v1beta/models/gemini-2.0-flash:generateContent?%24alt=json%3Benum-encoding%3Dint (127.0.0.1) 2967.43ms\n"
          ]
        },
        {
          "name": "stdout",
          "output_type": "stream",
          "text": [
            "[469/1089] Description de : 1043.jpg\n"
          ]
        },
        {
          "name": "stderr",
          "output_type": "stream",
          "text": [
            "WARNING:tornado.access:429 POST /v1beta/models/gemini-2.0-flash:generateContent?%24alt=json%3Benum-encoding%3Dint (127.0.0.1) 685.80ms\n"
          ]
        },
        {
          "name": "stdout",
          "output_type": "stream",
          "text": [
            "[470/1089] Description de : 1028.jpg\n"
          ]
        },
        {
          "name": "stderr",
          "output_type": "stream",
          "text": [
            "WARNING:tornado.access:429 POST /v1beta/models/gemini-2.0-flash:generateContent?%24alt=json%3Benum-encoding%3Dint (127.0.0.1) 583.67ms\n"
          ]
        },
        {
          "name": "stdout",
          "output_type": "stream",
          "text": [
            "[471/1089] Description de : 101.jpg\n"
          ]
        },
        {
          "name": "stderr",
          "output_type": "stream",
          "text": [
            "WARNING:tornado.access:429 POST /v1beta/models/gemini-2.0-flash:generateContent?%24alt=json%3Benum-encoding%3Dint (127.0.0.1) 482.36ms\n"
          ]
        },
        {
          "name": "stdout",
          "output_type": "stream",
          "text": [
            "[472/1089] Description de : 1034.jpg\n"
          ]
        },
        {
          "name": "stderr",
          "output_type": "stream",
          "text": [
            "WARNING:tornado.access:429 POST /v1beta/models/gemini-2.0-flash:generateContent?%24alt=json%3Benum-encoding%3Dint (127.0.0.1) 2991.42ms\n"
          ]
        },
        {
          "name": "stdout",
          "output_type": "stream",
          "text": [
            "[473/1089] Description de : 1079.jpg\n"
          ]
        },
        {
          "name": "stderr",
          "output_type": "stream",
          "text": [
            "WARNING:tornado.access:429 POST /v1beta/models/gemini-2.0-flash:generateContent?%24alt=json%3Benum-encoding%3Dint (127.0.0.1) 1296.43ms\n"
          ]
        },
        {
          "name": "stdout",
          "output_type": "stream",
          "text": [
            "[474/1089] Description de : 102.jpg\n"
          ]
        },
        {
          "name": "stderr",
          "output_type": "stream",
          "text": [
            "WARNING:tornado.access:429 POST /v1beta/models/gemini-2.0-flash:generateContent?%24alt=json%3Benum-encoding%3Dint (127.0.0.1) 405.72ms\n"
          ]
        },
        {
          "name": "stdout",
          "output_type": "stream",
          "text": [
            "[475/1089] Description de : 1024.jpg\n"
          ]
        },
        {
          "name": "stderr",
          "output_type": "stream",
          "text": [
            "WARNING:tornado.access:429 POST /v1beta/models/gemini-2.0-flash:generateContent?%24alt=json%3Benum-encoding%3Dint (127.0.0.1) 559.92ms\n"
          ]
        },
        {
          "name": "stdout",
          "output_type": "stream",
          "text": [
            "[476/1089] Description de : 1067.jpg\n"
          ]
        },
        {
          "name": "stderr",
          "output_type": "stream",
          "text": [
            "WARNING:tornado.access:429 POST /v1beta/models/gemini-2.0-flash:generateContent?%24alt=json%3Benum-encoding%3Dint (127.0.0.1) 533.56ms\n"
          ]
        },
        {
          "name": "stdout",
          "output_type": "stream",
          "text": [
            "[477/1089] Description de : 107.jpg\n",
            "[478/1089] Description de : 10112.jpg\n",
            "[479/1089] Description de : 1037.jpg\n",
            "[480/1089] Description de : 10100.jpg\n",
            "[481/1089] Description de : 1045.jpg\n",
            "[482/1089] Description de : 1013.jpg\n",
            "[483/1089] Description de : 1052.jpg\n",
            "[484/1089] Description de : 10104.jpg\n",
            "[485/1089] Description de : 1056.jpg\n",
            "[486/1089] Description de : 1030.jpg\n",
            "[487/1089] Description de : 1073.jpg\n",
            "[488/1089] Description de : 1038.jpg\n",
            "[489/1089] Description de : 10113.jpg\n",
            "[490/1089] Description de : 1041.jpg\n",
            "[491/1089] Description de : 1046.jpg\n",
            "[492/1089] Description de : 1018.jpg\n",
            "[493/1089] Description de : 1027.jpg\n"
          ]
        },
        {
          "name": "stderr",
          "output_type": "stream",
          "text": [
            "WARNING:tornado.access:429 POST /v1beta/models/gemini-2.0-flash:generateContent?%24alt=json%3Benum-encoding%3Dint (127.0.0.1) 1268.88ms\n"
          ]
        },
        {
          "name": "stdout",
          "output_type": "stream",
          "text": [
            "[494/1089] Description de : 1075.jpg\n"
          ]
        },
        {
          "name": "stderr",
          "output_type": "stream",
          "text": [
            "WARNING:tornado.access:429 POST /v1beta/models/gemini-2.0-flash:generateContent?%24alt=json%3Benum-encoding%3Dint (127.0.0.1) 609.35ms\n"
          ]
        },
        {
          "name": "stdout",
          "output_type": "stream",
          "text": [
            "[495/1089] Description de : 10101.jpg\n"
          ]
        },
        {
          "name": "stderr",
          "output_type": "stream",
          "text": [
            "WARNING:tornado.access:429 POST /v1beta/models/gemini-2.0-flash:generateContent?%24alt=json%3Benum-encoding%3Dint (127.0.0.1) 1039.92ms\n"
          ]
        },
        {
          "name": "stdout",
          "output_type": "stream",
          "text": [
            "[496/1089] Description de : 1029.jpg\n"
          ]
        },
        {
          "name": "stderr",
          "output_type": "stream",
          "text": [
            "WARNING:tornado.access:429 POST /v1beta/models/gemini-2.0-flash:generateContent?%24alt=json%3Benum-encoding%3Dint (127.0.0.1) 684.65ms\n"
          ]
        },
        {
          "name": "stdout",
          "output_type": "stream",
          "text": [
            "[497/1089] Description de : 1050.jpg\n"
          ]
        },
        {
          "name": "stderr",
          "output_type": "stream",
          "text": [
            "WARNING:tornado.access:429 POST /v1beta/models/gemini-2.0-flash:generateContent?%24alt=json%3Benum-encoding%3Dint (127.0.0.1) 432.02ms\n"
          ]
        },
        {
          "name": "stdout",
          "output_type": "stream",
          "text": [
            "[498/1089] Description de : 1072.jpg\n"
          ]
        },
        {
          "name": "stderr",
          "output_type": "stream",
          "text": [
            "WARNING:tornado.access:429 POST /v1beta/models/gemini-2.0-flash:generateContent?%24alt=json%3Benum-encoding%3Dint (127.0.0.1) 584.78ms\n"
          ]
        },
        {
          "name": "stdout",
          "output_type": "stream",
          "text": [
            "[499/1089] Description de : 105.jpg\n"
          ]
        },
        {
          "name": "stderr",
          "output_type": "stream",
          "text": [
            "WARNING:tornado.access:429 POST /v1beta/models/gemini-2.0-flash:generateContent?%24alt=json%3Benum-encoding%3Dint (127.0.0.1) 659.92ms\n"
          ]
        },
        {
          "name": "stdout",
          "output_type": "stream",
          "text": [
            "[500/1089] Description de : 10110.jpg\n"
          ]
        },
        {
          "name": "stderr",
          "output_type": "stream",
          "text": [
            "WARNING:tornado.access:429 POST /v1beta/models/gemini-2.0-flash:generateContent?%24alt=json%3Benum-encoding%3Dint (127.0.0.1) 583.67ms\n"
          ]
        },
        {
          "name": "stdout",
          "output_type": "stream",
          "text": [
            "[501/1089] Description de : 1074.jpg\n"
          ]
        },
        {
          "name": "stderr",
          "output_type": "stream",
          "text": [
            "WARNING:tornado.access:429 POST /v1beta/models/gemini-2.0-flash:generateContent?%24alt=json%3Benum-encoding%3Dint (127.0.0.1) 533.37ms\n"
          ]
        },
        {
          "name": "stdout",
          "output_type": "stream",
          "text": [
            "[502/1089] Description de : 10108.jpg\n"
          ]
        },
        {
          "name": "stderr",
          "output_type": "stream",
          "text": [
            "WARNING:tornado.access:429 POST /v1beta/models/gemini-2.0-flash:generateContent?%24alt=json%3Benum-encoding%3Dint (127.0.0.1) 685.60ms\n"
          ]
        },
        {
          "name": "stdout",
          "output_type": "stream",
          "text": [
            "[503/1089] Description de : 1058.jpg\n",
            "[504/1089] Description de : 1035.jpg\n",
            "[505/1089] Description de : 10103.jpg\n",
            "[506/1089] Description de : 1064.jpg\n",
            "[507/1089] Description de : 1062.jpg\n",
            "[508/1089] Description de : 1071.jpg\n",
            "[509/1089] Description de : 1021.jpg\n",
            "[510/1089] Description de : 1016.jpg\n",
            "[511/1089] Description de : 1077.jpg\n",
            "[512/1089] Description de : 1055.jpg\n",
            "[513/1089] Description de : 10102.jpg\n",
            "[514/1089] Description de : 1010.jpg\n",
            "[515/1089] Description de : 1049.jpg\n",
            "[516/1089] Description de : 10111.jpg\n",
            "[517/1089] Description de : 1053.jpg\n",
            "[518/1089] Description de : 1070.jpg\n",
            "[519/1089] Description de : 1066.jpg\n",
            "[520/1089] Description de : 1020.jpg\n",
            "[521/1089] Description de : 1032.jpg\n",
            "[522/1089] Description de : 10107.jpg\n",
            "[523/1089] Description de : 1065.jpg\n",
            "[524/1089] Description de : 10105.jpg\n",
            "[525/1089] Description de : 10109.jpg\n",
            "[526/1089] Description de : 1026.jpg\n",
            "[527/1089] Description de : 1042.jpg\n",
            "[528/1089] Description de : 1097.jpg\n",
            "[529/1089] Description de : 1089.jpg\n",
            "[530/1089] Description de : 1091.jpg\n",
            "[531/1089] Description de : 81.cathedral-basilica-san-carlos-borromeo-cathedral-basilica-san-carlos-borromeo-puno-cathedral-andean-baroque-cathedral.jpg\n"
          ]
        },
        {
          "name": "stderr",
          "output_type": "stream",
          "text": [
            "WARNING:tornado.access:429 POST /v1beta/models/gemini-2.0-flash:generateContent?%24alt=json%3Benum-encoding%3Dint (127.0.0.1) 2405.82ms\n"
          ]
        },
        {
          "name": "stdout",
          "output_type": "stream",
          "text": [
            "[532/1089] Description de : 1090.jpg\n",
            "[533/1089] Description de : 1087.jpg\n",
            "[534/1089] Description de : 1098.jpg\n",
            "[535/1089] Description de : andeanbaroque.jpg\n",
            "[536/1089] Description de : 1086.jpg\n",
            "[537/1089] Description de : 1082.jpg\n",
            "[538/1089] Description de : 1085.jpg\n",
            "[539/1089] Description de : 113.cayamarca-peru-october-church-san-francisco-cayamarca-typical-andean-baroque-church-san-francisco-cayamarca-typica.jpg\n",
            "[540/1089] Description de : 1081.jpg\n",
            "[541/1089] Description de : 1095.jpg\n",
            "[542/1089] Description de : 1083.jpg\n",
            "[543/1089] Description de : 109.jpg\n",
            "[544/1089] Description de : 1094.jpg\n",
            "[545/1089] Description de : 1084.jpg\n",
            "[546/1089] Description de : 1093.jpg\n",
            "[547/1089] Description de : 1092.jpg\n",
            "[548/1089] Description de : 1088.jpg\n"
          ]
        },
        {
          "name": "stderr",
          "output_type": "stream",
          "text": [
            "WARNING:tornado.access:429 POST /v1beta/models/gemini-2.0-flash:generateContent?%24alt=json%3Benum-encoding%3Dint (127.0.0.1) 559.00ms\n"
          ]
        },
        {
          "name": "stdout",
          "output_type": "stream",
          "text": [
            "[549/1089] Description de : 1096.jpg\n"
          ]
        },
        {
          "name": "stderr",
          "output_type": "stream",
          "text": [
            "WARNING:tornado.access:429 POST /v1beta/models/gemini-2.0-flash:generateContent?%24alt=json%3Benum-encoding%3Dint (127.0.0.1) 875.84ms\n"
          ]
        },
        {
          "name": "stdout",
          "output_type": "stream",
          "text": [
            "[550/1089] Description de : 1099.jpg\n"
          ]
        },
        {
          "name": "stderr",
          "output_type": "stream",
          "text": [
            "WARNING:tornado.access:429 POST /v1beta/models/gemini-2.0-flash:generateContent?%24alt=json%3Benum-encoding%3Dint (127.0.0.1) 1522.83ms\n"
          ]
        },
        {
          "name": "stdout",
          "output_type": "stream",
          "text": [
            "[551/1089] Description de : 133.jpg\n"
          ]
        },
        {
          "name": "stderr",
          "output_type": "stream",
          "text": [
            "WARNING:tornado.access:429 POST /v1beta/models/gemini-2.0-flash:generateContent?%24alt=json%3Benum-encoding%3Dint (127.0.0.1) 508.87ms\n"
          ]
        },
        {
          "name": "stdout",
          "output_type": "stream",
          "text": [
            "[552/1089] Description de : 1361.jpg\n",
            "[553/1089] Description de : 1321.jpg\n",
            "[554/1089] Description de : 1344.jpg\n",
            "[555/1089] Description de : 13105.jpg\n",
            "[556/1089] Description de : 1346.jpg\n",
            "[557/1089] Description de : 1352.jpg\n",
            "[558/1089] Description de : 1354.jpg\n",
            "[559/1089] Description de : 1332.jpg\n",
            "[560/1089] Description de : 1328.jpg\n",
            "[561/1089] Description de : 1331.jpg\n",
            "[562/1089] Description de : 1362.jpg\n",
            "[563/1089] Description de : 1347.jpg\n",
            "[564/1089] Description de : 130.jpg\n",
            "[565/1089] Description de : 13102.jpg\n",
            "[566/1089] Description de : 1320.jpg\n",
            "[567/1089] Description de : 1319.jpg\n",
            "[568/1089] Description de : 1335.jpg\n",
            "[569/1089] Description de : 1339.jpg\n",
            "[570/1089] Description de : 1368.jpg\n",
            "[571/1089] Description de : 13103.jpg\n",
            "[572/1089] Description de : 1364.jpg\n",
            "[573/1089] Description de : 1336.jpg\n",
            "[574/1089] Description de : 13110.jpg\n",
            "[575/1089] Description de : 1367.jpg\n",
            "[576/1089] Description de : 13109.jpg\n",
            "[577/1089] Description de : 1356.jpg\n",
            "[578/1089] Description de : 13107.jpg\n",
            "[579/1089] Description de : 1358.jpg\n",
            "[580/1089] Description de : 13101.jpg\n"
          ]
        },
        {
          "name": "stderr",
          "output_type": "stream",
          "text": [
            "WARNING:tornado.access:429 POST /v1beta/models/gemini-2.0-flash:generateContent?%24alt=json%3Benum-encoding%3Dint (127.0.0.1) 1394.68ms\n"
          ]
        },
        {
          "name": "stdout",
          "output_type": "stream",
          "text": [
            "[581/1089] Description de : 13120.jpg\n"
          ]
        },
        {
          "name": "stderr",
          "output_type": "stream",
          "text": [
            "WARNING:tornado.access:429 POST /v1beta/models/gemini-2.0-flash:generateContent?%24alt=json%3Benum-encoding%3Dint (127.0.0.1) 456.68ms\n"
          ]
        },
        {
          "name": "stdout",
          "output_type": "stream",
          "text": [
            "[582/1089] Description de : 1310.jpg\n"
          ]
        },
        {
          "name": "stderr",
          "output_type": "stream",
          "text": [
            "WARNING:tornado.access:429 POST /v1beta/models/gemini-2.0-flash:generateContent?%24alt=json%3Benum-encoding%3Dint (127.0.0.1) 735.66ms\n"
          ]
        },
        {
          "name": "stdout",
          "output_type": "stream",
          "text": [
            "[583/1089] Description de : 13116.jpg\n"
          ]
        },
        {
          "name": "stderr",
          "output_type": "stream",
          "text": [
            "WARNING:tornado.access:429 POST /v1beta/models/gemini-2.0-flash:generateContent?%24alt=json%3Benum-encoding%3Dint (127.0.0.1) 685.17ms\n"
          ]
        },
        {
          "name": "stdout",
          "output_type": "stream",
          "text": [
            "[584/1089] Description de : 1325.jpg\n"
          ]
        },
        {
          "name": "stderr",
          "output_type": "stream",
          "text": [
            "WARNING:tornado.access:429 POST /v1beta/models/gemini-2.0-flash:generateContent?%24alt=json%3Benum-encoding%3Dint (127.0.0.1) 431.32ms\n"
          ]
        },
        {
          "name": "stdout",
          "output_type": "stream",
          "text": [
            "[585/1089] Description de : 1315.jpg\n",
            "[586/1089] Description de : 1343.jpg\n"
          ]
        },
        {
          "name": "stderr",
          "output_type": "stream",
          "text": [
            "WARNING:tornado.access:429 POST /v1beta/models/gemini-2.0-flash:generateContent?%24alt=json%3Benum-encoding%3Dint (127.0.0.1) 863.99ms\n"
          ]
        },
        {
          "name": "stdout",
          "output_type": "stream",
          "text": [
            "[587/1089] Description de : 1323.jpg\n",
            "[588/1089] Description de : 1326.jpg\n",
            "[589/1089] Description de : 1337.jpg\n",
            "[590/1089] Description de : 1316.jpg\n",
            "[591/1089] Description de : 13115.jpg\n",
            "[592/1089] Description de : 13118.jpg\n",
            "[593/1089] Description de : 1312.jpg\n",
            "[594/1089] Description de : 1345.jpg\n",
            "[595/1089] Description de : 13117.jpg\n",
            "[596/1089] Description de : 1360.jpg\n",
            "[597/1089] Description de : 13104.jpg\n",
            "[598/1089] Description de : 1334.jpg\n",
            "[599/1089] Description de : 1318.jpg\n",
            "[600/1089] Description de : 1350.jpg\n",
            "[601/1089] Description de : 13106.jpg\n",
            "[602/1089] Description de : 135.jpg\n"
          ]
        },
        {
          "name": "stderr",
          "output_type": "stream",
          "text": [
            "WARNING:tornado.access:429 POST /v1beta/models/gemini-2.0-flash:generateContent?%24alt=json%3Benum-encoding%3Dint (127.0.0.1) 836.57ms\n"
          ]
        },
        {
          "name": "stdout",
          "output_type": "stream",
          "text": [
            "[603/1089] Description de : 1355.jpg\n"
          ]
        },
        {
          "name": "stderr",
          "output_type": "stream",
          "text": [
            "WARNING:tornado.access:429 POST /v1beta/models/gemini-2.0-flash:generateContent?%24alt=json%3Benum-encoding%3Dint (127.0.0.1) 1978.58ms\n"
          ]
        },
        {
          "name": "stdout",
          "output_type": "stream",
          "text": [
            "[604/1089] Description de : 132.jpg\n",
            "[605/1089] Description de : 1348.jpg\n",
            "[606/1089] Description de : 13119.jpg\n",
            "[607/1089] Description de : 1330.jpg\n",
            "[608/1089] Description de : 1338.jpg\n",
            "[609/1089] Description de : 1314.jpg\n",
            "[610/1089] Description de : 1341.jpg\n",
            "[611/1089] Description de : 13111.jpg\n",
            "[612/1089] Description de : 1342.jpg\n",
            "[613/1089] Description de : 13112.jpg\n",
            "[614/1089] Description de : 1351.jpg\n",
            "[615/1089] Description de : 1327.jpg\n",
            "[616/1089] Description de : 136.jpg\n",
            "[617/1089] Description de : 1366.jpg\n",
            "[618/1089] Description de : 1317.jpg\n",
            "[619/1089] Description de : 131.jpg\n",
            "[620/1089] Description de : 1322.jpg\n",
            "[621/1089] Description de : 13100.jpg\n",
            "[622/1089] Description de : 13108.jpg\n",
            "[623/1089] Description de : 13114.jpg\n",
            "[624/1089] Description de : 1324.jpg\n",
            "[625/1089] Description de : 1359.jpg\n",
            "[626/1089] Description de : 1353.jpg\n",
            "[627/1089] Description de : 1357.jpg\n",
            "[628/1089] Description de : 1365.jpg\n",
            "[629/1089] Description de : 1329.jpg\n",
            "[630/1089] Description de : 1349.jpg\n",
            "[631/1089] Description de : 1313.jpg\n",
            "[632/1089] Description de : 1311.jpg\n",
            "[633/1089] Description de : 134.jpg\n",
            "[634/1089] Description de : 1363.jpg\n",
            "[635/1089] Description de : 13113.jpg\n",
            "[636/1089] Description de : 1340.jpg\n",
            "[637/1089] Description de : 1333.jpg\n",
            "[638/1089] Description de : 1393.jpg\n",
            "[639/1089] Description de : 1370.jpg\n"
          ]
        },
        {
          "name": "stderr",
          "output_type": "stream",
          "text": [
            "ERROR:tornado.access:500 POST /v1beta/models/gemini-2.0-flash:generateContent?%24alt=json%3Benum-encoding%3Dint (127.0.0.1) 3074.16ms\n"
          ]
        },
        {
          "name": "stdout",
          "output_type": "stream",
          "text": [
            "[640/1089] Description de : 1373.jpg\n",
            "[641/1089] Description de : 1378.jpg\n",
            "[642/1089] Description de : 1379.jpg\n",
            "[643/1089] Description de : 1388.jpg\n",
            "[644/1089] Description de : 1374.jpg\n",
            "[645/1089] Description de : 1399.jpg\n",
            "[646/1089] Description de : 1398.jpg\n",
            "[647/1089] Description de : 1397.jpg\n",
            "[648/1089] Description de : 1389.jpg\n",
            "[649/1089] Description de : 1382.jpg\n",
            "[650/1089] Description de : 1371.jpg\n",
            "[651/1089] Description de : 139.jpg\n",
            "[652/1089] Description de : 1375.jpg\n",
            "[653/1089] Description de : 1387.jpg\n",
            "[654/1089] Description de : 1380.jpg\n",
            "[655/1089] Description de : 138.jpg\n",
            "[656/1089] Description de : 1376.jpg\n",
            "[657/1089] Description de : 1384.jpg\n",
            "[658/1089] Description de : 1372.jpg\n",
            "[659/1089] Description de : 1396.jpg\n",
            "[660/1089] Description de : 1395.jpg\n",
            "[661/1089] Description de : 137.jpg\n",
            "[662/1089] Description de : 1381.jpg\n",
            "[663/1089] Description de : 1385.jpg\n",
            "[664/1089] Description de : 1390.jpg\n",
            "[665/1089] Description de : 1377.jpg\n",
            "[666/1089] Description de : 1386.jpg\n",
            "[667/1089] Description de : 1391.jpg\n",
            "[668/1089] Description de : 1394.jpg\n",
            "[669/1089] Description de : 1392.jpg\n",
            "[670/1089] Description de : 1369.jpg\n",
            "[671/1089] Description de : 1383.jpg\n",
            "[672/1089] Description de : 11101.jpg\n"
          ]
        },
        {
          "name": "stderr",
          "output_type": "stream",
          "text": [
            "WARNING:tornado.access:429 POST /v1beta/models/gemini-2.0-flash:generateContent?%24alt=json%3Benum-encoding%3Dint (127.0.0.1) 1344.04ms\n"
          ]
        },
        {
          "name": "stdout",
          "output_type": "stream",
          "text": [
            "[673/1089] Description de : 11104.jpg\n",
            "[674/1089] Description de : 11314.jpg\n"
          ]
        },
        {
          "name": "stderr",
          "output_type": "stream",
          "text": [
            "WARNING:tornado.access:429 POST /v1beta/models/gemini-2.0-flash:generateContent?%24alt=json%3Benum-encoding%3Dint (127.0.0.1) 1040.40ms\n"
          ]
        },
        {
          "name": "stdout",
          "output_type": "stream",
          "text": [
            "[675/1089] Description de : 11144.jpg\n"
          ]
        },
        {
          "name": "stderr",
          "output_type": "stream",
          "text": [
            "WARNING:tornado.access:429 POST /v1beta/models/gemini-2.0-flash:generateContent?%24alt=json%3Benum-encoding%3Dint (127.0.0.1) 711.05ms\n"
          ]
        },
        {
          "name": "stdout",
          "output_type": "stream",
          "text": [
            "[676/1089] Description de : 11134.jpg\n"
          ]
        },
        {
          "name": "stderr",
          "output_type": "stream",
          "text": [
            "WARNING:tornado.access:429 POST /v1beta/models/gemini-2.0-flash:generateContent?%24alt=json%3Benum-encoding%3Dint (127.0.0.1) 1521.63ms\n"
          ]
        },
        {
          "name": "stdout",
          "output_type": "stream",
          "text": [
            "[677/1089] Description de : 11116.jpg\n"
          ]
        },
        {
          "name": "stderr",
          "output_type": "stream",
          "text": [
            "WARNING:tornado.access:429 POST /v1beta/models/gemini-2.0-flash:generateContent?%24alt=json%3Benum-encoding%3Dint (127.0.0.1) 811.79ms\n"
          ]
        },
        {
          "name": "stdout",
          "output_type": "stream",
          "text": [
            "[678/1089] Description de : 11167.jpg\n"
          ]
        },
        {
          "name": "stderr",
          "output_type": "stream",
          "text": [
            "WARNING:tornado.access:429 POST /v1beta/models/gemini-2.0-flash:generateContent?%24alt=json%3Benum-encoding%3Dint (127.0.0.1) 457.33ms\n"
          ]
        },
        {
          "name": "stdout",
          "output_type": "stream",
          "text": [
            "[679/1089] Description de : 11317.jpg\n"
          ]
        },
        {
          "name": "stderr",
          "output_type": "stream",
          "text": [
            "WARNING:tornado.access:429 POST /v1beta/models/gemini-2.0-flash:generateContent?%24alt=json%3Benum-encoding%3Dint (127.0.0.1) 990.87ms\n"
          ]
        },
        {
          "name": "stdout",
          "output_type": "stream",
          "text": [
            "[680/1089] Description de : 11136.jpg\n"
          ]
        },
        {
          "name": "stderr",
          "output_type": "stream",
          "text": [
            "WARNING:tornado.access:429 POST /v1beta/models/gemini-2.0-flash:generateContent?%24alt=json%3Benum-encoding%3Dint (127.0.0.1) 587.07ms\n"
          ]
        },
        {
          "name": "stdout",
          "output_type": "stream",
          "text": [
            "[681/1089] Description de : 11159.jpg\n",
            "[682/1089] Description de : 11177.jpg\n",
            "[683/1089] Description de : 11286.jpg\n",
            "[684/1089] Description de : 11139.jpg\n",
            "[685/1089] Description de : 11260.jpg\n",
            "[686/1089] Description de : 1129.jpg\n",
            "[687/1089] Description de : 11318.jpg\n",
            "[688/1089] Description de : 11140.jpg\n",
            "[689/1089] Description de : 11308.jpg\n",
            "[690/1089] Description de : 1115.jpg\n",
            "[691/1089] Description de : 11290.jpg\n",
            "[692/1089] Description de : 11245.jpg\n",
            "[693/1089] Description de : 11100.jpg\n",
            "[694/1089] Description de : 11162.jpg\n",
            "[695/1089] Description de : 11253.jpg\n",
            "[696/1089] Description de : 11326.jpg\n",
            "[697/1089] Description de : 11143.jpg\n",
            "[698/1089] Description de : 11176.jpg\n"
          ]
        },
        {
          "name": "stderr",
          "output_type": "stream",
          "text": [
            "WARNING:tornado.access:429 POST /v1beta/models/gemini-2.0-flash:generateContent?%24alt=json%3Benum-encoding%3Dint (127.0.0.1) 456.32ms\n"
          ]
        },
        {
          "name": "stdout",
          "output_type": "stream",
          "text": [
            "[699/1089] Description de : 111.jpg\n"
          ]
        },
        {
          "name": "stderr",
          "output_type": "stream",
          "text": [
            "WARNING:tornado.access:429 POST /v1beta/models/gemini-2.0-flash:generateContent?%24alt=json%3Benum-encoding%3Dint (127.0.0.1) 1673.38ms\n"
          ]
        },
        {
          "name": "stdout",
          "output_type": "stream",
          "text": [
            "[700/1089] Description de : 11315.jpg\n"
          ]
        },
        {
          "name": "stderr",
          "output_type": "stream",
          "text": [
            "WARNING:tornado.access:429 POST /v1beta/models/gemini-2.0-flash:generateContent?%24alt=json%3Benum-encoding%3Dint (127.0.0.1) 1040.14ms\n"
          ]
        },
        {
          "name": "stdout",
          "output_type": "stream",
          "text": [
            "[701/1089] Description de : 11174.jpg\n"
          ]
        },
        {
          "name": "stderr",
          "output_type": "stream",
          "text": [
            "WARNING:tornado.access:429 POST /v1beta/models/gemini-2.0-flash:generateContent?%24alt=json%3Benum-encoding%3Dint (127.0.0.1) 1048.97ms\n"
          ]
        },
        {
          "name": "stdout",
          "output_type": "stream",
          "text": [
            "[702/1089] Description de : 11132.jpg\n"
          ]
        },
        {
          "name": "stderr",
          "output_type": "stream",
          "text": [
            "WARNING:tornado.access:429 POST /v1beta/models/gemini-2.0-flash:generateContent?%24alt=json%3Benum-encoding%3Dint (127.0.0.1) 1727.32ms\n"
          ]
        },
        {
          "name": "stdout",
          "output_type": "stream",
          "text": [
            "[703/1089] Description de : 1130.jpg\n"
          ]
        },
        {
          "name": "stderr",
          "output_type": "stream",
          "text": [
            "WARNING:tornado.access:429 POST /v1beta/models/gemini-2.0-flash:generateContent?%24alt=json%3Benum-encoding%3Dint (127.0.0.1) 862.97ms\n"
          ]
        },
        {
          "name": "stdout",
          "output_type": "stream",
          "text": [
            "[704/1089] Description de : 1125.jpg\n"
          ]
        },
        {
          "name": "stderr",
          "output_type": "stream",
          "text": [
            "WARNING:tornado.access:429 POST /v1beta/models/gemini-2.0-flash:generateContent?%24alt=json%3Benum-encoding%3Dint (127.0.0.1) 887.80ms\n"
          ]
        },
        {
          "name": "stdout",
          "output_type": "stream",
          "text": [
            "[705/1089] Description de : 11259.jpg\n"
          ]
        },
        {
          "name": "stderr",
          "output_type": "stream",
          "text": [
            "WARNING:tornado.access:429 POST /v1beta/models/gemini-2.0-flash:generateContent?%24alt=json%3Benum-encoding%3Dint (127.0.0.1) 1470.77ms\n"
          ]
        },
        {
          "name": "stdout",
          "output_type": "stream",
          "text": [
            "[706/1089] Description de : 11181.jpg\n"
          ]
        },
        {
          "name": "stderr",
          "output_type": "stream",
          "text": [
            "WARNING:tornado.access:429 POST /v1beta/models/gemini-2.0-flash:generateContent?%24alt=json%3Benum-encoding%3Dint (127.0.0.1) 1294.81ms\n"
          ]
        },
        {
          "name": "stdout",
          "output_type": "stream",
          "text": [
            "[707/1089] Description de : 11196.jpg\n"
          ]
        },
        {
          "name": "stderr",
          "output_type": "stream",
          "text": [
            "WARNING:tornado.access:429 POST /v1beta/models/gemini-2.0-flash:generateContent?%24alt=json%3Benum-encoding%3Dint (127.0.0.1) 798.40ms\n"
          ]
        },
        {
          "name": "stdout",
          "output_type": "stream",
          "text": [
            "[708/1089] Description de : 11327.jpg\n"
          ]
        },
        {
          "name": "stderr",
          "output_type": "stream",
          "text": [
            "WARNING:tornado.access:429 POST /v1beta/models/gemini-2.0-flash:generateContent?%24alt=json%3Benum-encoding%3Dint (127.0.0.1) 918.17ms\n"
          ]
        },
        {
          "name": "stdout",
          "output_type": "stream",
          "text": [
            "[709/1089] Description de : 11280.jpg\n"
          ]
        },
        {
          "name": "stderr",
          "output_type": "stream",
          "text": [
            "WARNING:tornado.access:429 POST /v1beta/models/gemini-2.0-flash:generateContent?%24alt=json%3Benum-encoding%3Dint (127.0.0.1) 738.04ms\n"
          ]
        },
        {
          "name": "stdout",
          "output_type": "stream",
          "text": [
            "[710/1089] Description de : 11305.jpg\n"
          ]
        },
        {
          "name": "stderr",
          "output_type": "stream",
          "text": [
            "WARNING:tornado.access:429 POST /v1beta/models/gemini-2.0-flash:generateContent?%24alt=json%3Benum-encoding%3Dint (127.0.0.1) 889.05ms\n"
          ]
        },
        {
          "name": "stdout",
          "output_type": "stream",
          "text": [
            "[711/1089] Description de : 11292.jpg\n"
          ]
        },
        {
          "name": "stderr",
          "output_type": "stream",
          "text": [
            "WARNING:tornado.access:429 POST /v1beta/models/gemini-2.0-flash:generateContent?%24alt=json%3Benum-encoding%3Dint (127.0.0.1) 989.69ms\n"
          ]
        },
        {
          "name": "stdout",
          "output_type": "stream",
          "text": [
            "[712/1089] Description de : 11135.jpg\n"
          ]
        },
        {
          "name": "stderr",
          "output_type": "stream",
          "text": [
            "WARNING:tornado.access:429 POST /v1beta/models/gemini-2.0-flash:generateContent?%24alt=json%3Benum-encoding%3Dint (127.0.0.1) 1597.95ms\n"
          ]
        },
        {
          "name": "stdout",
          "output_type": "stream",
          "text": [
            "[713/1089] Description de : 11328.jpg\n"
          ]
        },
        {
          "name": "stderr",
          "output_type": "stream",
          "text": [
            "WARNING:tornado.access:429 POST /v1beta/models/gemini-2.0-flash:generateContent?%24alt=json%3Benum-encoding%3Dint (127.0.0.1) 2079.74ms\n"
          ]
        },
        {
          "name": "stdout",
          "output_type": "stream",
          "text": [
            "[714/1089] Description de : 11239.jpg\n"
          ]
        },
        {
          "name": "stderr",
          "output_type": "stream",
          "text": [
            "WARNING:tornado.access:429 POST /v1beta/models/gemini-2.0-flash:generateContent?%24alt=json%3Benum-encoding%3Dint (127.0.0.1) 1672.47ms\n"
          ]
        },
        {
          "name": "stdout",
          "output_type": "stream",
          "text": [
            "[715/1089] Description de : 11102.jpg\n"
          ]
        },
        {
          "name": "stderr",
          "output_type": "stream",
          "text": [
            "WARNING:tornado.access:429 POST /v1beta/models/gemini-2.0-flash:generateContent?%24alt=json%3Benum-encoding%3Dint (127.0.0.1) 1319.54ms\n"
          ]
        },
        {
          "name": "stdout",
          "output_type": "stream",
          "text": [
            "[716/1089] Description de : 11118.jpg\n",
            "[717/1089] Description de : 11149.jpg\n",
            "[718/1089] Description de : 11228.jpg\n",
            "[719/1089] Description de : 11210.jpg\n",
            "[720/1089] Description de : 11192.jpg\n",
            "[721/1089] Description de : 11313.jpg\n",
            "[722/1089] Description de : 11150.jpg\n",
            "[723/1089] Description de : 11166.jpg\n",
            "[724/1089] Description de : 11319.jpg\n",
            "[725/1089] Description de : 11322.jpg\n",
            "[726/1089] Description de : 11288.jpg\n",
            "[727/1089] Description de : 110.jpg\n",
            "[728/1089] Description de : 11273.jpg\n",
            "[729/1089] Description de : 11222.jpg\n",
            "[730/1089] Description de : 11155.jpg\n",
            "[731/1089] Description de : 11300.jpg\n",
            "[732/1089] Description de : 11257.jpg\n"
          ]
        },
        {
          "name": "stderr",
          "output_type": "stream",
          "text": [
            "WARNING:tornado.access:429 POST /v1beta/models/gemini-2.0-flash:generateContent?%24alt=json%3Benum-encoding%3Dint (127.0.0.1) 840.51ms\n"
          ]
        },
        {
          "name": "stdout",
          "output_type": "stream",
          "text": [
            "[733/1089] Description de : 11203.jpg\n",
            "[734/1089] Description de : 11232.jpg\n"
          ]
        },
        {
          "name": "stderr",
          "output_type": "stream",
          "text": [
            "WARNING:tornado.access:429 POST /v1beta/models/gemini-2.0-flash:generateContent?%24alt=json%3Benum-encoding%3Dint (127.0.0.1) 1293.68ms\n"
          ]
        },
        {
          "name": "stdout",
          "output_type": "stream",
          "text": [
            "[735/1089] Description de : 11323.jpg\n"
          ]
        },
        {
          "name": "stderr",
          "output_type": "stream",
          "text": [
            "WARNING:tornado.access:429 POST /v1beta/models/gemini-2.0-flash:generateContent?%24alt=json%3Benum-encoding%3Dint (127.0.0.1) 1242.86ms\n"
          ]
        },
        {
          "name": "stdout",
          "output_type": "stream",
          "text": [
            "[736/1089] Description de : 11255.jpg\n"
          ]
        },
        {
          "name": "stderr",
          "output_type": "stream",
          "text": [
            "WARNING:tornado.access:429 POST /v1beta/models/gemini-2.0-flash:generateContent?%24alt=json%3Benum-encoding%3Dint (127.0.0.1) 1014.31ms\n"
          ]
        },
        {
          "name": "stdout",
          "output_type": "stream",
          "text": [
            "[737/1089] Description de : 11238.jpg\n"
          ]
        },
        {
          "name": "stderr",
          "output_type": "stream",
          "text": [
            "WARNING:tornado.access:429 POST /v1beta/models/gemini-2.0-flash:generateContent?%24alt=json%3Benum-encoding%3Dint (127.0.0.1) 1343.81ms\n"
          ]
        },
        {
          "name": "stdout",
          "output_type": "stream",
          "text": [
            "[738/1089] Description de : 11256.jpg\n"
          ]
        },
        {
          "name": "stderr",
          "output_type": "stream",
          "text": [
            "WARNING:tornado.access:429 POST /v1beta/models/gemini-2.0-flash:generateContent?%24alt=json%3Benum-encoding%3Dint (127.0.0.1) 736.06ms\n"
          ]
        },
        {
          "name": "stdout",
          "output_type": "stream",
          "text": [
            "[739/1089] Description de : 11119.jpg\n"
          ]
        },
        {
          "name": "stderr",
          "output_type": "stream",
          "text": [
            "WARNING:tornado.access:429 POST /v1beta/models/gemini-2.0-flash:generateContent?%24alt=json%3Benum-encoding%3Dint (127.0.0.1) 2255.70ms\n"
          ]
        },
        {
          "name": "stdout",
          "output_type": "stream",
          "text": [
            "[740/1089] Description de : 11153.jpg\n"
          ]
        },
        {
          "name": "stderr",
          "output_type": "stream",
          "text": [
            "WARNING:tornado.access:429 POST /v1beta/models/gemini-2.0-flash:generateContent?%24alt=json%3Benum-encoding%3Dint (127.0.0.1) 1421.02ms\n"
          ]
        },
        {
          "name": "stdout",
          "output_type": "stream",
          "text": [
            "[741/1089] Description de : 11223.jpg\n"
          ]
        },
        {
          "name": "stderr",
          "output_type": "stream",
          "text": [
            "WARNING:tornado.access:429 POST /v1beta/models/gemini-2.0-flash:generateContent?%24alt=json%3Benum-encoding%3Dint (127.0.0.1) 813.61ms\n"
          ]
        },
        {
          "name": "stdout",
          "output_type": "stream",
          "text": [
            "[742/1089] Description de : 1124.jpg\n"
          ]
        },
        {
          "name": "stderr",
          "output_type": "stream",
          "text": [
            "WARNING:tornado.access:429 POST /v1beta/models/gemini-2.0-flash:generateContent?%24alt=json%3Benum-encoding%3Dint (127.0.0.1) 1206.76ms\n"
          ]
        },
        {
          "name": "stdout",
          "output_type": "stream",
          "text": [
            "[743/1089] Description de : 11237.jpg\n"
          ]
        },
        {
          "name": "stderr",
          "output_type": "stream",
          "text": [
            "WARNING:tornado.access:429 POST /v1beta/models/gemini-2.0-flash:generateContent?%24alt=json%3Benum-encoding%3Dint (127.0.0.1) 485.80ms\n"
          ]
        },
        {
          "name": "stdout",
          "output_type": "stream",
          "text": [
            "[744/1089] Description de : 11107.jpg\n"
          ]
        },
        {
          "name": "stderr",
          "output_type": "stream",
          "text": [
            "WARNING:tornado.access:429 POST /v1beta/models/gemini-2.0-flash:generateContent?%24alt=json%3Benum-encoding%3Dint (127.0.0.1) 912.85ms\n"
          ]
        },
        {
          "name": "stdout",
          "output_type": "stream",
          "text": [
            "[745/1089] Description de : 11122.jpg\n"
          ]
        },
        {
          "name": "stderr",
          "output_type": "stream",
          "text": [
            "WARNING:tornado.access:429 POST /v1beta/models/gemini-2.0-flash:generateContent?%24alt=json%3Benum-encoding%3Dint (127.0.0.1) 988.59ms\n"
          ]
        },
        {
          "name": "stdout",
          "output_type": "stream",
          "text": [
            "[746/1089] Description de : 11284.jpg\n"
          ]
        },
        {
          "name": "stderr",
          "output_type": "stream",
          "text": [
            "WARNING:tornado.access:429 POST /v1beta/models/gemini-2.0-flash:generateContent?%24alt=json%3Benum-encoding%3Dint (127.0.0.1) 812.54ms\n"
          ]
        },
        {
          "name": "stdout",
          "output_type": "stream",
          "text": [
            "[747/1089] Description de : 11158.jpg\n"
          ]
        },
        {
          "name": "stderr",
          "output_type": "stream",
          "text": [
            "WARNING:tornado.access:429 POST /v1beta/models/gemini-2.0-flash:generateContent?%24alt=json%3Benum-encoding%3Dint (127.0.0.1) 963.75ms\n"
          ]
        },
        {
          "name": "stdout",
          "output_type": "stream",
          "text": [
            "[748/1089] Description de : 11188.jpg\n"
          ]
        },
        {
          "name": "stderr",
          "output_type": "stream",
          "text": [
            "WARNING:tornado.access:429 POST /v1beta/models/gemini-2.0-flash:generateContent?%24alt=json%3Benum-encoding%3Dint (127.0.0.1) 1039.69ms\n"
          ]
        },
        {
          "name": "stdout",
          "output_type": "stream",
          "text": [
            "[749/1089] Description de : 11218.jpg\n"
          ]
        },
        {
          "name": "stderr",
          "output_type": "stream",
          "text": [
            "WARNING:tornado.access:429 POST /v1beta/models/gemini-2.0-flash:generateContent?%24alt=json%3Benum-encoding%3Dint (127.0.0.1) 584.00ms\n"
          ]
        },
        {
          "name": "stdout",
          "output_type": "stream",
          "text": [
            "[750/1089] Description de : 11320.jpg\n"
          ]
        },
        {
          "name": "stderr",
          "output_type": "stream",
          "text": [
            "WARNING:tornado.access:429 POST /v1beta/models/gemini-2.0-flash:generateContent?%24alt=json%3Benum-encoding%3Dint (127.0.0.1) 1546.49ms\n"
          ]
        },
        {
          "name": "stdout",
          "output_type": "stream",
          "text": [
            "[751/1089] Description de : 11278.jpg\n",
            "[752/1089] Description de : 11296.jpg\n",
            "[753/1089] Description de : 11332.jpg\n",
            "[754/1089] Description de : 11283.jpg\n",
            "[755/1089] Description de : 1132.jpg\n",
            "[756/1089] Description de : 11303.jpg\n",
            "[757/1089] Description de : 11152.jpg\n",
            "[758/1089] Description de : 11234.jpg\n",
            "[759/1089] Description de : 11307.jpg\n",
            "[760/1089] Description de : 11106.jpg\n",
            "[761/1089] Description de : 11243.jpg\n",
            "[762/1089] Description de : 1128.jpg\n",
            "[763/1089] Description de : 11195.jpg\n",
            "[764/1089] Description de : 11217.jpg\n",
            "[765/1089] Description de : 11186.jpg\n",
            "[766/1089] Description de : 11241.jpg\n"
          ]
        },
        {
          "name": "stderr",
          "output_type": "stream",
          "text": [
            "WARNING:tornado.access:429 POST /v1beta/models/gemini-2.0-flash:generateContent?%24alt=json%3Benum-encoding%3Dint (127.0.0.1) 483.18ms\n"
          ]
        },
        {
          "name": "stdout",
          "output_type": "stream",
          "text": [
            "[767/1089] Description de : 11182.jpg\n",
            "[768/1089] Description de : 11164.jpg\n"
          ]
        },
        {
          "name": "stderr",
          "output_type": "stream",
          "text": [
            "WARNING:tornado.access:429 POST /v1beta/models/gemini-2.0-flash:generateContent?%24alt=json%3Benum-encoding%3Dint (127.0.0.1) 2159.11ms\n"
          ]
        },
        {
          "name": "stdout",
          "output_type": "stream",
          "text": [
            "[769/1089] Description de : 11170.jpg\n"
          ]
        },
        {
          "name": "stderr",
          "output_type": "stream",
          "text": [
            "WARNING:tornado.access:429 POST /v1beta/models/gemini-2.0-flash:generateContent?%24alt=json%3Benum-encoding%3Dint (127.0.0.1) 635.63ms\n"
          ]
        },
        {
          "name": "stdout",
          "output_type": "stream",
          "text": [
            "[770/1089] Description de : 11179.jpg\n"
          ]
        },
        {
          "name": "stderr",
          "output_type": "stream",
          "text": [
            "WARNING:tornado.access:429 POST /v1beta/models/gemini-2.0-flash:generateContent?%24alt=json%3Benum-encoding%3Dint (127.0.0.1) 1456.08ms\n"
          ]
        },
        {
          "name": "stdout",
          "output_type": "stream",
          "text": [
            "[771/1089] Description de : 11254.jpg\n"
          ]
        },
        {
          "name": "stderr",
          "output_type": "stream",
          "text": [
            "WARNING:tornado.access:429 POST /v1beta/models/gemini-2.0-flash:generateContent?%24alt=json%3Benum-encoding%3Dint (127.0.0.1) 583.77ms\n"
          ]
        },
        {
          "name": "stdout",
          "output_type": "stream",
          "text": [
            "[772/1089] Description de : 1117.jpg\n"
          ]
        },
        {
          "name": "stderr",
          "output_type": "stream",
          "text": [
            "WARNING:tornado.access:429 POST /v1beta/models/gemini-2.0-flash:generateContent?%24alt=json%3Benum-encoding%3Dint (127.0.0.1) 1597.46ms\n"
          ]
        },
        {
          "name": "stdout",
          "output_type": "stream",
          "text": [
            "[773/1089] Description de : 11209.jpg\n",
            "[774/1089] Description de : 11138.jpg\n"
          ]
        },
        {
          "name": "stderr",
          "output_type": "stream",
          "text": [
            "WARNING:tornado.access:429 POST /v1beta/models/gemini-2.0-flash:generateContent?%24alt=json%3Benum-encoding%3Dint (127.0.0.1) 1605.17ms\n"
          ]
        },
        {
          "name": "stdout",
          "output_type": "stream",
          "text": [
            "[775/1089] Description de : 11208.jpg\n"
          ]
        },
        {
          "name": "stderr",
          "output_type": "stream",
          "text": [
            "WARNING:tornado.access:429 POST /v1beta/models/gemini-2.0-flash:generateContent?%24alt=json%3Benum-encoding%3Dint (127.0.0.1) 1231.93ms\n"
          ]
        },
        {
          "name": "stdout",
          "output_type": "stream",
          "text": [
            "[776/1089] Description de : 11321.jpg\n"
          ]
        },
        {
          "name": "stderr",
          "output_type": "stream",
          "text": [
            "WARNING:tornado.access:429 POST /v1beta/models/gemini-2.0-flash:generateContent?%24alt=json%3Benum-encoding%3Dint (127.0.0.1) 1372.23ms\n"
          ]
        },
        {
          "name": "stdout",
          "output_type": "stream",
          "text": [
            "[777/1089] Description de : 11226.jpg\n"
          ]
        },
        {
          "name": "stderr",
          "output_type": "stream",
          "text": [
            "WARNING:tornado.access:429 POST /v1beta/models/gemini-2.0-flash:generateContent?%24alt=json%3Benum-encoding%3Dint (127.0.0.1) 507.23ms\n"
          ]
        },
        {
          "name": "stdout",
          "output_type": "stream",
          "text": [
            "[778/1089] Description de : 11310.jpg\n"
          ]
        },
        {
          "name": "stderr",
          "output_type": "stream",
          "text": [
            "WARNING:tornado.access:429 POST /v1beta/models/gemini-2.0-flash:generateContent?%24alt=json%3Benum-encoding%3Dint (127.0.0.1) 1192.44ms\n"
          ]
        },
        {
          "name": "stdout",
          "output_type": "stream",
          "text": [
            "[779/1089] Description de : 11206.jpg\n"
          ]
        },
        {
          "name": "stderr",
          "output_type": "stream",
          "text": [
            "WARNING:tornado.access:429 POST /v1beta/models/gemini-2.0-flash:generateContent?%24alt=json%3Benum-encoding%3Dint (127.0.0.1) 914.32ms\n"
          ]
        },
        {
          "name": "stdout",
          "output_type": "stream",
          "text": [
            "[780/1089] Description de : 11213.jpg\n"
          ]
        },
        {
          "name": "stderr",
          "output_type": "stream",
          "text": [
            "WARNING:tornado.access:429 POST /v1beta/models/gemini-2.0-flash:generateContent?%24alt=json%3Benum-encoding%3Dint (127.0.0.1) 359.80ms\n"
          ]
        },
        {
          "name": "stdout",
          "output_type": "stream",
          "text": [
            "[781/1089] Description de : 1122.jpg\n"
          ]
        },
        {
          "name": "stderr",
          "output_type": "stream",
          "text": [
            "WARNING:tornado.access:429 POST /v1beta/models/gemini-2.0-flash:generateContent?%24alt=json%3Benum-encoding%3Dint (127.0.0.1) 615.29ms\n"
          ]
        },
        {
          "name": "stdout",
          "output_type": "stream",
          "text": [
            "[782/1089] Description de : 11184.jpg\n"
          ]
        },
        {
          "name": "stderr",
          "output_type": "stream",
          "text": [
            "WARNING:tornado.access:429 POST /v1beta/models/gemini-2.0-flash:generateContent?%24alt=json%3Benum-encoding%3Dint (127.0.0.1) 1576.95ms\n"
          ]
        },
        {
          "name": "stdout",
          "output_type": "stream",
          "text": [
            "[783/1089] Description de : 11301.jpg\n"
          ]
        },
        {
          "name": "stderr",
          "output_type": "stream",
          "text": [
            "WARNING:tornado.access:429 POST /v1beta/models/gemini-2.0-flash:generateContent?%24alt=json%3Benum-encoding%3Dint (127.0.0.1) 659.96ms\n"
          ]
        },
        {
          "name": "stdout",
          "output_type": "stream",
          "text": [
            "[784/1089] Description de : 1116.jpg\n"
          ]
        },
        {
          "name": "stderr",
          "output_type": "stream",
          "text": [
            "WARNING:tornado.access:429 POST /v1beta/models/gemini-2.0-flash:generateContent?%24alt=json%3Benum-encoding%3Dint (127.0.0.1) 1318.84ms\n"
          ]
        },
        {
          "name": "stdout",
          "output_type": "stream",
          "text": [
            "[785/1089] Description de : 11231.jpg\n"
          ]
        },
        {
          "name": "stderr",
          "output_type": "stream",
          "text": [
            "WARNING:tornado.access:429 POST /v1beta/models/gemini-2.0-flash:generateContent?%24alt=json%3Benum-encoding%3Dint (127.0.0.1) 407.11ms\n"
          ]
        },
        {
          "name": "stdout",
          "output_type": "stream",
          "text": [
            "[786/1089] Description de : 1131.jpg\n"
          ]
        },
        {
          "name": "stderr",
          "output_type": "stream",
          "text": [
            "WARNING:tornado.access:429 POST /v1beta/models/gemini-2.0-flash:generateContent?%24alt=json%3Benum-encoding%3Dint (127.0.0.1) 1395.15ms\n"
          ]
        },
        {
          "name": "stdout",
          "output_type": "stream",
          "text": [
            "[787/1089] Description de : 11248.jpg\n"
          ]
        },
        {
          "name": "stderr",
          "output_type": "stream",
          "text": [
            "WARNING:tornado.access:429 POST /v1beta/models/gemini-2.0-flash:generateContent?%24alt=json%3Benum-encoding%3Dint (127.0.0.1) 355.75ms\n"
          ]
        },
        {
          "name": "stdout",
          "output_type": "stream",
          "text": [
            "[788/1089] Description de : 11240.jpg\n"
          ]
        },
        {
          "name": "stderr",
          "output_type": "stream",
          "text": [
            "WARNING:tornado.access:429 POST /v1beta/models/gemini-2.0-flash:generateContent?%24alt=json%3Benum-encoding%3Dint (127.0.0.1) 1319.03ms\n"
          ]
        },
        {
          "name": "stdout",
          "output_type": "stream",
          "text": [
            "[789/1089] Description de : 11131.jpg\n",
            "[790/1089] Description de : 11295.jpg\n",
            "[791/1089] Description de : 11247.jpg\n",
            "[792/1089] Description de : 11111.jpg\n",
            "[793/1089] Description de : 11221.jpg\n",
            "[794/1089] Description de : 1112.jpg\n",
            "[795/1089] Description de : 1111.jpg\n",
            "[796/1089] Description de : 11329.jpg\n",
            "[797/1089] Description de : 11201.jpg\n",
            "[798/1089] Description de : 112.jpg\n",
            "[799/1089] Description de : 11325.jpg\n",
            "[800/1089] Description de : 11227.jpg\n",
            "[801/1089] Description de : 11267.jpg\n",
            "[802/1089] Description de : 11145.jpg\n",
            "[803/1089] Description de : 11125.jpg\n",
            "[804/1089] Description de : 11202.jpg\n",
            "[805/1089] Description de : 11258.jpg\n"
          ]
        },
        {
          "name": "stderr",
          "output_type": "stream",
          "text": [
            "WARNING:tornado.access:429 POST /v1beta/models/gemini-2.0-flash:generateContent?%24alt=json%3Benum-encoding%3Dint (127.0.0.1) 1242.90ms\n"
          ]
        },
        {
          "name": "stdout",
          "output_type": "stream",
          "text": [
            "[806/1089] Description de : 11306.jpg\n"
          ]
        },
        {
          "name": "stderr",
          "output_type": "stream",
          "text": [
            "WARNING:tornado.access:429 POST /v1beta/models/gemini-2.0-flash:generateContent?%24alt=json%3Benum-encoding%3Dint (127.0.0.1) 1268.34ms\n"
          ]
        },
        {
          "name": "stdout",
          "output_type": "stream",
          "text": [
            "[807/1089] Description de : 1121.jpg\n",
            "[808/1089] Description de : 11114.jpg\n"
          ]
        },
        {
          "name": "stderr",
          "output_type": "stream",
          "text": [
            "WARNING:tornado.access:429 POST /v1beta/models/gemini-2.0-flash:generateContent?%24alt=json%3Benum-encoding%3Dint (127.0.0.1) 811.71ms\n"
          ]
        },
        {
          "name": "stdout",
          "output_type": "stream",
          "text": [
            "[809/1089] Description de : 11297.jpg\n"
          ]
        },
        {
          "name": "stderr",
          "output_type": "stream",
          "text": [
            "WARNING:tornado.access:429 POST /v1beta/models/gemini-2.0-flash:generateContent?%24alt=json%3Benum-encoding%3Dint (127.0.0.1) 735.71ms\n"
          ]
        },
        {
          "name": "stdout",
          "output_type": "stream",
          "text": [
            "[810/1089] Description de : 11235.jpg\n"
          ]
        },
        {
          "name": "stderr",
          "output_type": "stream",
          "text": [
            "WARNING:tornado.access:429 POST /v1beta/models/gemini-2.0-flash:generateContent?%24alt=json%3Benum-encoding%3Dint (127.0.0.1) 534.06ms\n"
          ]
        },
        {
          "name": "stdout",
          "output_type": "stream",
          "text": [
            "[811/1089] Description de : 11124.jpg\n"
          ]
        },
        {
          "name": "stderr",
          "output_type": "stream",
          "text": [
            "WARNING:tornado.access:429 POST /v1beta/models/gemini-2.0-flash:generateContent?%24alt=json%3Benum-encoding%3Dint (127.0.0.1) 917.01ms\n"
          ]
        },
        {
          "name": "stdout",
          "output_type": "stream",
          "text": [
            "[812/1089] Description de : 11309.jpg\n"
          ]
        },
        {
          "name": "stderr",
          "output_type": "stream",
          "text": [
            "WARNING:tornado.access:429 POST /v1beta/models/gemini-2.0-flash:generateContent?%24alt=json%3Benum-encoding%3Dint (127.0.0.1) 992.65ms\n"
          ]
        },
        {
          "name": "stdout",
          "output_type": "stream",
          "text": [
            "[813/1089] Description de : 11180.jpg\n"
          ]
        },
        {
          "name": "stderr",
          "output_type": "stream",
          "text": [
            "WARNING:tornado.access:429 POST /v1beta/models/gemini-2.0-flash:generateContent?%24alt=json%3Benum-encoding%3Dint (127.0.0.1) 1652.49ms\n"
          ]
        },
        {
          "name": "stdout",
          "output_type": "stream",
          "text": [
            "[814/1089] Description de : 11126.jpg\n"
          ]
        },
        {
          "name": "stderr",
          "output_type": "stream",
          "text": [
            "WARNING:tornado.access:429 POST /v1beta/models/gemini-2.0-flash:generateContent?%24alt=json%3Benum-encoding%3Dint (127.0.0.1) 938.68ms\n"
          ]
        },
        {
          "name": "stdout",
          "output_type": "stream",
          "text": [
            "[815/1089] Description de : 11263.jpg\n"
          ]
        },
        {
          "name": "stderr",
          "output_type": "stream",
          "text": [
            "WARNING:tornado.access:429 POST /v1beta/models/gemini-2.0-flash:generateContent?%24alt=json%3Benum-encoding%3Dint (127.0.0.1) 1572.53ms\n"
          ]
        },
        {
          "name": "stdout",
          "output_type": "stream",
          "text": [
            "[816/1089] Description de : 11117.jpg\n"
          ]
        },
        {
          "name": "stderr",
          "output_type": "stream",
          "text": [
            "WARNING:tornado.access:429 POST /v1beta/models/gemini-2.0-flash:generateContent?%24alt=json%3Benum-encoding%3Dint (127.0.0.1) 1116.32ms\n"
          ]
        },
        {
          "name": "stdout",
          "output_type": "stream",
          "text": [
            "[817/1089] Description de : 11216.jpg\n"
          ]
        },
        {
          "name": "stderr",
          "output_type": "stream",
          "text": [
            "WARNING:tornado.access:429 POST /v1beta/models/gemini-2.0-flash:generateContent?%24alt=json%3Benum-encoding%3Dint (127.0.0.1) 2330.79ms\n"
          ]
        },
        {
          "name": "stdout",
          "output_type": "stream",
          "text": [
            "[818/1089] Description de : 11282.jpg\n"
          ]
        },
        {
          "name": "stderr",
          "output_type": "stream",
          "text": [
            "WARNING:tornado.access:429 POST /v1beta/models/gemini-2.0-flash:generateContent?%24alt=json%3Benum-encoding%3Dint (127.0.0.1) 431.63ms\n"
          ]
        },
        {
          "name": "stdout",
          "output_type": "stream",
          "text": [
            "[819/1089] Description de : 11236.jpg\n"
          ]
        },
        {
          "name": "stderr",
          "output_type": "stream",
          "text": [
            "WARNING:tornado.access:429 POST /v1beta/models/gemini-2.0-flash:generateContent?%24alt=json%3Benum-encoding%3Dint (127.0.0.1) 710.50ms\n"
          ]
        },
        {
          "name": "stdout",
          "output_type": "stream",
          "text": [
            "[820/1089] Description de : 11187.jpg\n"
          ]
        },
        {
          "name": "stderr",
          "output_type": "stream",
          "text": [
            "WARNING:tornado.access:429 POST /v1beta/models/gemini-2.0-flash:generateContent?%24alt=json%3Benum-encoding%3Dint (127.0.0.1) 710.92ms\n"
          ]
        },
        {
          "name": "stdout",
          "output_type": "stream",
          "text": [
            "[821/1089] Description de : 11109.jpg\n"
          ]
        },
        {
          "name": "stderr",
          "output_type": "stream",
          "text": [
            "WARNING:tornado.access:429 POST /v1beta/models/gemini-2.0-flash:generateContent?%24alt=json%3Benum-encoding%3Dint (127.0.0.1) 1015.67ms\n"
          ]
        },
        {
          "name": "stdout",
          "output_type": "stream",
          "text": [
            "[822/1089] Description de : 11270.jpg\n"
          ]
        },
        {
          "name": "stderr",
          "output_type": "stream",
          "text": [
            "WARNING:tornado.access:429 POST /v1beta/models/gemini-2.0-flash:generateContent?%24alt=json%3Benum-encoding%3Dint (127.0.0.1) 1521.01ms\n"
          ]
        },
        {
          "name": "stdout",
          "output_type": "stream",
          "text": [
            "[823/1089] Description de : 11197.jpg\n"
          ]
        },
        {
          "name": "stderr",
          "output_type": "stream",
          "text": [
            "WARNING:tornado.access:429 POST /v1beta/models/gemini-2.0-flash:generateContent?%24alt=json%3Benum-encoding%3Dint (127.0.0.1) 1502.36ms\n"
          ]
        },
        {
          "name": "stdout",
          "output_type": "stream",
          "text": [
            "[824/1089] Description de : 11172.jpg\n"
          ]
        },
        {
          "name": "stderr",
          "output_type": "stream",
          "text": [
            "WARNING:tornado.access:429 POST /v1beta/models/gemini-2.0-flash:generateContent?%24alt=json%3Benum-encoding%3Dint (127.0.0.1) 1242.90ms\n"
          ]
        },
        {
          "name": "stdout",
          "output_type": "stream",
          "text": [
            "[825/1089] Description de : 11304.jpg\n"
          ]
        },
        {
          "name": "stderr",
          "output_type": "stream",
          "text": [
            "WARNING:tornado.access:429 POST /v1beta/models/gemini-2.0-flash:generateContent?%24alt=json%3Benum-encoding%3Dint (127.0.0.1) 887.75ms\n"
          ]
        },
        {
          "name": "stdout",
          "output_type": "stream",
          "text": [
            "[826/1089] Description de : 11219.jpg\n"
          ]
        },
        {
          "name": "stderr",
          "output_type": "stream",
          "text": [
            "WARNING:tornado.access:429 POST /v1beta/models/gemini-2.0-flash:generateContent?%24alt=json%3Benum-encoding%3Dint (127.0.0.1) 510.07ms\n"
          ]
        },
        {
          "name": "stdout",
          "output_type": "stream",
          "text": [
            "[827/1089] Description de : 11173.jpg\n",
            "[828/1089] Description de : 11281.jpg\n",
            "[829/1089] Description de : 11169.jpg\n",
            "[830/1089] Description de : 11171.jpg\n",
            "[831/1089] Description de : 11224.jpg\n",
            "[832/1089] Description de : 11130.jpg\n",
            "[833/1089] Description de : 11199.jpg\n",
            "[834/1089] Description de : 11160.jpg\n",
            "[835/1089] Description de : 11211.jpg\n",
            "[836/1089] Description de : 11266.jpg\n",
            "[837/1089] Description de : 1126.jpg\n",
            "[838/1089] Description de : 1119.jpg\n",
            "[839/1089] Description de : 11137.jpg\n",
            "[840/1089] Description de : 11274.jpg\n",
            "[841/1089] Description de : 11146.jpg\n",
            "[842/1089] Description de : 11269.jpg\n"
          ]
        },
        {
          "name": "stderr",
          "output_type": "stream",
          "text": [
            "WARNING:tornado.access:429 POST /v1beta/models/gemini-2.0-flash:generateContent?%24alt=json%3Benum-encoding%3Dint (127.0.0.1) 431.45ms\n"
          ]
        },
        {
          "name": "stdout",
          "output_type": "stream",
          "text": [
            "[843/1089] Description de : 1113.jpg\n"
          ]
        },
        {
          "name": "stderr",
          "output_type": "stream",
          "text": [
            "WARNING:tornado.access:429 POST /v1beta/models/gemini-2.0-flash:generateContent?%24alt=json%3Benum-encoding%3Dint (127.0.0.1) 1141.54ms\n"
          ]
        },
        {
          "name": "stdout",
          "output_type": "stream",
          "text": [
            "[844/1089] Description de : 11330.jpg\n"
          ]
        },
        {
          "name": "stderr",
          "output_type": "stream",
          "text": [
            "WARNING:tornado.access:429 POST /v1beta/models/gemini-2.0-flash:generateContent?%24alt=json%3Benum-encoding%3Dint (127.0.0.1) 1041.47ms\n"
          ]
        },
        {
          "name": "stdout",
          "output_type": "stream",
          "text": [
            "[845/1089] Description de : 11242.jpg\n",
            "[846/1089] Description de : 11190.jpg\n"
          ]
        },
        {
          "name": "stderr",
          "output_type": "stream",
          "text": [
            "WARNING:tornado.access:429 POST /v1beta/models/gemini-2.0-flash:generateContent?%24alt=json%3Benum-encoding%3Dint (127.0.0.1) 969.66ms\n"
          ]
        },
        {
          "name": "stdout",
          "output_type": "stream",
          "text": [
            "[847/1089] Description de : 11289.jpg\n"
          ]
        },
        {
          "name": "stderr",
          "output_type": "stream",
          "text": [
            "WARNING:tornado.access:429 POST /v1beta/models/gemini-2.0-flash:generateContent?%24alt=json%3Benum-encoding%3Dint (127.0.0.1) 684.79ms\n"
          ]
        },
        {
          "name": "stdout",
          "output_type": "stream",
          "text": [
            "[848/1089] Description de : 1127.jpg\n"
          ]
        },
        {
          "name": "stderr",
          "output_type": "stream",
          "text": [
            "WARNING:tornado.access:429 POST /v1beta/models/gemini-2.0-flash:generateContent?%24alt=json%3Benum-encoding%3Dint (127.0.0.1) 1167.56ms\n"
          ]
        },
        {
          "name": "stdout",
          "output_type": "stream",
          "text": [
            "[849/1089] Description de : 11128.jpg\n"
          ]
        },
        {
          "name": "stderr",
          "output_type": "stream",
          "text": [
            "WARNING:tornado.access:429 POST /v1beta/models/gemini-2.0-flash:generateContent?%24alt=json%3Benum-encoding%3Dint (127.0.0.1) 330.50ms\n"
          ]
        },
        {
          "name": "stdout",
          "output_type": "stream",
          "text": [
            "[850/1089] Description de : 11244.jpg\n",
            "[851/1089] Description de : 11302.jpg\n"
          ]
        },
        {
          "name": "stderr",
          "output_type": "stream",
          "text": [
            "WARNING:tornado.access:429 POST /v1beta/models/gemini-2.0-flash:generateContent?%24alt=json%3Benum-encoding%3Dint (127.0.0.1) 862.94ms\n"
          ]
        },
        {
          "name": "stdout",
          "output_type": "stream",
          "text": [
            "[852/1089] Description de : 11298.jpg\n"
          ]
        },
        {
          "name": "stderr",
          "output_type": "stream",
          "text": [
            "WARNING:tornado.access:429 POST /v1beta/models/gemini-2.0-flash:generateContent?%24alt=json%3Benum-encoding%3Dint (127.0.0.1) 1447.82ms\n"
          ]
        },
        {
          "name": "stdout",
          "output_type": "stream",
          "text": [
            "[853/1089] Description de : 11168.jpg\n"
          ]
        },
        {
          "name": "stderr",
          "output_type": "stream",
          "text": [
            "WARNING:tornado.access:429 POST /v1beta/models/gemini-2.0-flash:generateContent?%24alt=json%3Benum-encoding%3Dint (127.0.0.1) 709.68ms\n"
          ]
        },
        {
          "name": "stdout",
          "output_type": "stream",
          "text": [
            "[854/1089] Description de : 11249.jpg\n"
          ]
        },
        {
          "name": "stderr",
          "output_type": "stream",
          "text": [
            "WARNING:tornado.access:429 POST /v1beta/models/gemini-2.0-flash:generateContent?%24alt=json%3Benum-encoding%3Dint (127.0.0.1) 1117.37ms\n"
          ]
        },
        {
          "name": "stdout",
          "output_type": "stream",
          "text": [
            "[855/1089] Description de : 11151.jpg\n"
          ]
        },
        {
          "name": "stderr",
          "output_type": "stream",
          "text": [
            "WARNING:tornado.access:429 POST /v1beta/models/gemini-2.0-flash:generateContent?%24alt=json%3Benum-encoding%3Dint (127.0.0.1) 1781.44ms\n"
          ]
        },
        {
          "name": "stdout",
          "output_type": "stream",
          "text": [
            "[856/1089] Description de : 11212.jpg\n"
          ]
        },
        {
          "name": "stderr",
          "output_type": "stream",
          "text": [
            "WARNING:tornado.access:429 POST /v1beta/models/gemini-2.0-flash:generateContent?%24alt=json%3Benum-encoding%3Dint (127.0.0.1) 459.19ms\n"
          ]
        },
        {
          "name": "stdout",
          "output_type": "stream",
          "text": [
            "[857/1089] Description de : 1114.jpg\n"
          ]
        },
        {
          "name": "stderr",
          "output_type": "stream",
          "text": [
            "WARNING:tornado.access:429 POST /v1beta/models/gemini-2.0-flash:generateContent?%24alt=json%3Benum-encoding%3Dint (127.0.0.1) 736.45ms\n"
          ]
        },
        {
          "name": "stdout",
          "output_type": "stream",
          "text": [
            "[858/1089] Description de : 1118.jpg\n"
          ]
        },
        {
          "name": "stderr",
          "output_type": "stream",
          "text": [
            "WARNING:tornado.access:429 POST /v1beta/models/gemini-2.0-flash:generateContent?%24alt=json%3Benum-encoding%3Dint (127.0.0.1) 1243.22ms\n"
          ]
        },
        {
          "name": "stdout",
          "output_type": "stream",
          "text": [
            "[859/1089] Description de : 11316.jpg\n"
          ]
        },
        {
          "name": "stderr",
          "output_type": "stream",
          "text": [
            "WARNING:tornado.access:429 POST /v1beta/models/gemini-2.0-flash:generateContent?%24alt=json%3Benum-encoding%3Dint (127.0.0.1) 1471.37ms\n"
          ]
        },
        {
          "name": "stdout",
          "output_type": "stream",
          "text": [
            "[860/1089] Description de : 11233.jpg\n"
          ]
        },
        {
          "name": "stderr",
          "output_type": "stream",
          "text": [
            "WARNING:tornado.access:429 POST /v1beta/models/gemini-2.0-flash:generateContent?%24alt=json%3Benum-encoding%3Dint (127.0.0.1) 532.57ms\n"
          ]
        },
        {
          "name": "stdout",
          "output_type": "stream",
          "text": [
            "[861/1089] Description de : 11103.jpg\n"
          ]
        },
        {
          "name": "stderr",
          "output_type": "stream",
          "text": [
            "WARNING:tornado.access:429 POST /v1beta/models/gemini-2.0-flash:generateContent?%24alt=json%3Benum-encoding%3Dint (127.0.0.1) 1269.38ms\n"
          ]
        },
        {
          "name": "stdout",
          "output_type": "stream",
          "text": [
            "[862/1089] Description de : 11214.jpg\n"
          ]
        },
        {
          "name": "stderr",
          "output_type": "stream",
          "text": [
            "WARNING:tornado.access:429 POST /v1beta/models/gemini-2.0-flash:generateContent?%24alt=json%3Benum-encoding%3Dint (127.0.0.1) 1325.27ms\n"
          ]
        },
        {
          "name": "stdout",
          "output_type": "stream",
          "text": [
            "[863/1089] Description de : 11148.jpg\n"
          ]
        },
        {
          "name": "stderr",
          "output_type": "stream",
          "text": [
            "WARNING:tornado.access:429 POST /v1beta/models/gemini-2.0-flash:generateContent?%24alt=json%3Benum-encoding%3Dint (127.0.0.1) 534.93ms\n"
          ]
        },
        {
          "name": "stdout",
          "output_type": "stream",
          "text": [
            "[864/1089] Description de : 11276.jpg\n"
          ]
        },
        {
          "name": "stderr",
          "output_type": "stream",
          "text": [
            "WARNING:tornado.access:429 POST /v1beta/models/gemini-2.0-flash:generateContent?%24alt=json%3Benum-encoding%3Dint (127.0.0.1) 761.56ms\n"
          ]
        },
        {
          "name": "stdout",
          "output_type": "stream",
          "text": [
            "[865/1089] Description de : 11324.jpg\n"
          ]
        },
        {
          "name": "stderr",
          "output_type": "stream",
          "text": [
            "WARNING:tornado.access:429 POST /v1beta/models/gemini-2.0-flash:generateContent?%24alt=json%3Benum-encoding%3Dint (127.0.0.1) 684.90ms\n"
          ]
        },
        {
          "name": "stdout",
          "output_type": "stream",
          "text": [
            "[866/1089] Description de : 1133.jpg\n",
            "[867/1089] Description de : 11265.jpg\n",
            "[868/1089] Description de : 11121.jpg\n",
            "[869/1089] Description de : 11183.jpg\n",
            "[870/1089] Description de : 11251.jpg\n",
            "[871/1089] Description de : 11194.jpg\n",
            "[872/1089] Description de : 11287.jpg\n",
            "[873/1089] Description de : 1110.jpg\n",
            "[874/1089] Description de : 11198.jpg\n",
            "[875/1089] Description de : 11261.jpg\n",
            "[876/1089] Description de : 11277.jpg\n",
            "[877/1089] Description de : 11156.jpg\n",
            "[878/1089] Description de : 11127.jpg\n",
            "[879/1089] Description de : 11275.jpg\n",
            "[880/1089] Description de : 11123.jpg\n",
            "[881/1089] Description de : 11165.jpg\n",
            "[882/1089] Description de : 11299.jpg\n"
          ]
        },
        {
          "name": "stderr",
          "output_type": "stream",
          "text": [
            "WARNING:tornado.access:429 POST /v1beta/models/gemini-2.0-flash:generateContent?%24alt=json%3Benum-encoding%3Dint (127.0.0.1) 939.60ms\n"
          ]
        },
        {
          "name": "stdout",
          "output_type": "stream",
          "text": [
            "[883/1089] Description de : 11291.jpg\n"
          ]
        },
        {
          "name": "stderr",
          "output_type": "stream",
          "text": [
            "WARNING:tornado.access:429 POST /v1beta/models/gemini-2.0-flash:generateContent?%24alt=json%3Benum-encoding%3Dint (127.0.0.1) 1015.76ms\n"
          ]
        },
        {
          "name": "stdout",
          "output_type": "stream",
          "text": [
            "[884/1089] Description de : 1120.jpg\n"
          ]
        },
        {
          "name": "stderr",
          "output_type": "stream",
          "text": [
            "WARNING:tornado.access:429 POST /v1beta/models/gemini-2.0-flash:generateContent?%24alt=json%3Benum-encoding%3Dint (127.0.0.1) 994.63ms\n"
          ]
        },
        {
          "name": "stdout",
          "output_type": "stream",
          "text": [
            "[885/1089] Description de : 11264.jpg\n"
          ]
        },
        {
          "name": "stderr",
          "output_type": "stream",
          "text": [
            "WARNING:tornado.access:429 POST /v1beta/models/gemini-2.0-flash:generateContent?%24alt=json%3Benum-encoding%3Dint (127.0.0.1) 1318.74ms\n"
          ]
        },
        {
          "name": "stdout",
          "output_type": "stream",
          "text": [
            "[886/1089] Description de : 11311.jpg\n"
          ]
        },
        {
          "name": "stderr",
          "output_type": "stream",
          "text": [
            "WARNING:tornado.access:429 POST /v1beta/models/gemini-2.0-flash:generateContent?%24alt=json%3Benum-encoding%3Dint (127.0.0.1) 711.26ms\n"
          ]
        },
        {
          "name": "stdout",
          "output_type": "stream",
          "text": [
            "[887/1089] Description de : 113.jpg\n"
          ]
        },
        {
          "name": "stderr",
          "output_type": "stream",
          "text": [
            "WARNING:tornado.access:429 POST /v1beta/models/gemini-2.0-flash:generateContent?%24alt=json%3Benum-encoding%3Dint (127.0.0.1) 1597.69ms\n"
          ]
        },
        {
          "name": "stdout",
          "output_type": "stream",
          "text": [
            "[888/1089] Description de : 11272.jpg\n"
          ]
        },
        {
          "name": "stderr",
          "output_type": "stream",
          "text": [
            "WARNING:tornado.access:429 POST /v1beta/models/gemini-2.0-flash:generateContent?%24alt=json%3Benum-encoding%3Dint (127.0.0.1) 1065.07ms\n"
          ]
        },
        {
          "name": "stdout",
          "output_type": "stream",
          "text": [
            "[889/1089] Description de : 11200.jpg\n",
            "[890/1089] Description de : 11262.jpg\n"
          ]
        },
        {
          "name": "stderr",
          "output_type": "stream",
          "text": [
            "WARNING:tornado.access:429 POST /v1beta/models/gemini-2.0-flash:generateContent?%24alt=json%3Benum-encoding%3Dint (127.0.0.1) 1125.23ms\n"
          ]
        },
        {
          "name": "stdout",
          "output_type": "stream",
          "text": [
            "[891/1089] Description de : 11252.jpg\n"
          ]
        },
        {
          "name": "stderr",
          "output_type": "stream",
          "text": [
            "WARNING:tornado.access:429 POST /v1beta/models/gemini-2.0-flash:generateContent?%24alt=json%3Benum-encoding%3Dint (127.0.0.1) 585.87ms\n"
          ]
        },
        {
          "name": "stdout",
          "output_type": "stream",
          "text": [
            "[892/1089] Description de : 11220.jpg\n"
          ]
        },
        {
          "name": "stderr",
          "output_type": "stream",
          "text": [
            "WARNING:tornado.access:429 POST /v1beta/models/gemini-2.0-flash:generateContent?%24alt=json%3Benum-encoding%3Dint (127.0.0.1) 381.03ms\n"
          ]
        },
        {
          "name": "stdout",
          "output_type": "stream",
          "text": [
            "[893/1089] Description de : 11142.jpg\n"
          ]
        },
        {
          "name": "stderr",
          "output_type": "stream",
          "text": [
            "WARNING:tornado.access:429 POST /v1beta/models/gemini-2.0-flash:generateContent?%24alt=json%3Benum-encoding%3Dint (127.0.0.1) 1268.36ms\n"
          ]
        },
        {
          "name": "stdout",
          "output_type": "stream",
          "text": [
            "[894/1089] Description de : 11178.jpg\n"
          ]
        },
        {
          "name": "stderr",
          "output_type": "stream",
          "text": [
            "WARNING:tornado.access:429 POST /v1beta/models/gemini-2.0-flash:generateContent?%24alt=json%3Benum-encoding%3Dint (127.0.0.1) 1495.24ms\n"
          ]
        },
        {
          "name": "stdout",
          "output_type": "stream",
          "text": [
            "[895/1089] Description de : 11108.jpg\n"
          ]
        },
        {
          "name": "stderr",
          "output_type": "stream",
          "text": [
            "WARNING:tornado.access:429 POST /v1beta/models/gemini-2.0-flash:generateContent?%24alt=json%3Benum-encoding%3Dint (127.0.0.1) 685.15ms\n"
          ]
        },
        {
          "name": "stdout",
          "output_type": "stream",
          "text": [
            "[896/1089] Description de : 11293.jpg\n"
          ]
        },
        {
          "name": "stderr",
          "output_type": "stream",
          "text": [
            "WARNING:tornado.access:429 POST /v1beta/models/gemini-2.0-flash:generateContent?%24alt=json%3Benum-encoding%3Dint (127.0.0.1) 761.01ms\n"
          ]
        },
        {
          "name": "stdout",
          "output_type": "stream",
          "text": [
            "[897/1089] Description de : 1123.jpg\n"
          ]
        },
        {
          "name": "stderr",
          "output_type": "stream",
          "text": [
            "WARNING:tornado.access:429 POST /v1beta/models/gemini-2.0-flash:generateContent?%24alt=json%3Benum-encoding%3Dint (127.0.0.1) 788.83ms\n"
          ]
        },
        {
          "name": "stdout",
          "output_type": "stream",
          "text": [
            "[898/1089] Description de : 11250.jpg\n"
          ]
        },
        {
          "name": "stderr",
          "output_type": "stream",
          "text": [
            "WARNING:tornado.access:429 POST /v1beta/models/gemini-2.0-flash:generateContent?%24alt=json%3Benum-encoding%3Dint (127.0.0.1) 457.36ms\n"
          ]
        },
        {
          "name": "stdout",
          "output_type": "stream",
          "text": [
            "[899/1089] Description de : 11279.jpg\n"
          ]
        },
        {
          "name": "stderr",
          "output_type": "stream",
          "text": [
            "WARNING:tornado.access:429 POST /v1beta/models/gemini-2.0-flash:generateContent?%24alt=json%3Benum-encoding%3Dint (127.0.0.1) 811.79ms\n"
          ]
        },
        {
          "name": "stdout",
          "output_type": "stream",
          "text": [
            "[900/1089] Description de : 11191.jpg\n"
          ]
        },
        {
          "name": "stderr",
          "output_type": "stream",
          "text": [
            "WARNING:tornado.access:429 POST /v1beta/models/gemini-2.0-flash:generateContent?%24alt=json%3Benum-encoding%3Dint (127.0.0.1) 1723.97ms\n"
          ]
        },
        {
          "name": "stdout",
          "output_type": "stream",
          "text": [
            "[901/1089] Description de : 11331.jpg\n"
          ]
        },
        {
          "name": "stderr",
          "output_type": "stream",
          "text": [
            "WARNING:tornado.access:429 POST /v1beta/models/gemini-2.0-flash:generateContent?%24alt=json%3Benum-encoding%3Dint (127.0.0.1) 862.52ms\n"
          ]
        },
        {
          "name": "stdout",
          "output_type": "stream",
          "text": [
            "[902/1089] Description de : 11129.jpg\n"
          ]
        },
        {
          "name": "stderr",
          "output_type": "stream",
          "text": [
            "WARNING:tornado.access:429 POST /v1beta/models/gemini-2.0-flash:generateContent?%24alt=json%3Benum-encoding%3Dint (127.0.0.1) 637.05ms\n"
          ]
        },
        {
          "name": "stdout",
          "output_type": "stream",
          "text": [
            "[903/1089] Description de : 11133.jpg\n"
          ]
        },
        {
          "name": "stderr",
          "output_type": "stream",
          "text": [
            "WARNING:tornado.access:429 POST /v1beta/models/gemini-2.0-flash:generateContent?%24alt=json%3Benum-encoding%3Dint (127.0.0.1) 970.39ms\n"
          ]
        },
        {
          "name": "stdout",
          "output_type": "stream",
          "text": [
            "[904/1089] Description de : 11112.jpg\n",
            "[905/1089] Description de : 11285.jpg\n",
            "[906/1089] Description de : 11154.jpg\n",
            "[907/1089] Description de : 11163.jpg\n",
            "[908/1089] Description de : 11161.jpg\n",
            "[909/1089] Description de : 11193.jpg\n",
            "[910/1089] Description de : 11113.jpg\n",
            "[911/1089] Description de : 11268.jpg\n",
            "[912/1089] Description de : 11189.jpg\n",
            "[913/1089] Description de : 11204.jpg\n",
            "[914/1089] Description de : 11147.jpg\n",
            "[915/1089] Description de : 11312.jpg\n",
            "[916/1089] Description de : 11205.jpg\n",
            "[917/1089] Description de : 11157.jpg\n",
            "[918/1089] Description de : 11225.jpg\n",
            "[919/1089] Description de : 11185.jpg\n",
            "[920/1089] Description de : 11115.jpg\n"
          ]
        },
        {
          "name": "stderr",
          "output_type": "stream",
          "text": [
            "WARNING:tornado.access:429 POST /v1beta/models/gemini-2.0-flash:generateContent?%24alt=json%3Benum-encoding%3Dint (127.0.0.1) 836.80ms\n"
          ]
        },
        {
          "name": "stdout",
          "output_type": "stream",
          "text": [
            "[921/1089] Description de : 11230.jpg\n",
            "[922/1089] Description de : 11207.jpg\n"
          ]
        },
        {
          "name": "stderr",
          "output_type": "stream",
          "text": [
            "WARNING:tornado.access:429 POST /v1beta/models/gemini-2.0-flash:generateContent?%24alt=json%3Benum-encoding%3Dint (127.0.0.1) 608.63ms\n"
          ]
        },
        {
          "name": "stdout",
          "output_type": "stream",
          "text": [
            "[923/1089] Description de : 11141.jpg\n"
          ]
        },
        {
          "name": "stderr",
          "output_type": "stream",
          "text": [
            "WARNING:tornado.access:429 POST /v1beta/models/gemini-2.0-flash:generateContent?%24alt=json%3Benum-encoding%3Dint (127.0.0.1) 785.99ms\n"
          ]
        },
        {
          "name": "stdout",
          "output_type": "stream",
          "text": [
            "[924/1089] Description de : 11110.jpg\n"
          ]
        },
        {
          "name": "stderr",
          "output_type": "stream",
          "text": [
            "WARNING:tornado.access:429 POST /v1beta/models/gemini-2.0-flash:generateContent?%24alt=json%3Benum-encoding%3Dint (127.0.0.1) 659.85ms\n"
          ]
        },
        {
          "name": "stdout",
          "output_type": "stream",
          "text": [
            "[925/1089] Description de : 11246.jpg\n"
          ]
        },
        {
          "name": "stderr",
          "output_type": "stream",
          "text": [
            "WARNING:tornado.access:429 POST /v1beta/models/gemini-2.0-flash:generateContent?%24alt=json%3Benum-encoding%3Dint (127.0.0.1) 1292.71ms\n"
          ]
        },
        {
          "name": "stdout",
          "output_type": "stream",
          "text": [
            "[926/1089] Description de : 11294.jpg\n"
          ]
        },
        {
          "name": "stderr",
          "output_type": "stream",
          "text": [
            "WARNING:tornado.access:429 POST /v1beta/models/gemini-2.0-flash:generateContent?%24alt=json%3Benum-encoding%3Dint (127.0.0.1) 1014.76ms\n"
          ]
        },
        {
          "name": "stdout",
          "output_type": "stream",
          "text": [
            "[927/1089] Description de : 11175.jpg\n"
          ]
        },
        {
          "name": "stderr",
          "output_type": "stream",
          "text": [
            "WARNING:tornado.access:429 POST /v1beta/models/gemini-2.0-flash:generateContent?%24alt=json%3Benum-encoding%3Dint (127.0.0.1) 867.05ms\n"
          ]
        },
        {
          "name": "stdout",
          "output_type": "stream",
          "text": [
            "[928/1089] Description de : 11271.jpg\n"
          ]
        },
        {
          "name": "stderr",
          "output_type": "stream",
          "text": [
            "WARNING:tornado.access:429 POST /v1beta/models/gemini-2.0-flash:generateContent?%24alt=json%3Benum-encoding%3Dint (127.0.0.1) 1178.27ms\n"
          ]
        },
        {
          "name": "stdout",
          "output_type": "stream",
          "text": [
            "[929/1089] Description de : 11105.jpg\n"
          ]
        },
        {
          "name": "stderr",
          "output_type": "stream",
          "text": [
            "WARNING:tornado.access:429 POST /v1beta/models/gemini-2.0-flash:generateContent?%24alt=json%3Benum-encoding%3Dint (127.0.0.1) 843.68ms\n"
          ]
        },
        {
          "name": "stdout",
          "output_type": "stream",
          "text": [
            "[930/1089] Description de : 11120.jpg\n"
          ]
        },
        {
          "name": "stderr",
          "output_type": "stream",
          "text": [
            "WARNING:tornado.access:429 POST /v1beta/models/gemini-2.0-flash:generateContent?%24alt=json%3Benum-encoding%3Dint (127.0.0.1) 839.25ms\n"
          ]
        },
        {
          "name": "stdout",
          "output_type": "stream",
          "text": [
            "[931/1089] Description de : 11215.jpg\n"
          ]
        },
        {
          "name": "stderr",
          "output_type": "stream",
          "text": [
            "WARNING:tornado.access:429 POST /v1beta/models/gemini-2.0-flash:generateContent?%24alt=json%3Benum-encoding%3Dint (127.0.0.1) 1017.19ms\n"
          ]
        },
        {
          "name": "stdout",
          "output_type": "stream",
          "text": [
            "[932/1089] Description de : 11229.jpg\n"
          ]
        },
        {
          "name": "stderr",
          "output_type": "stream",
          "text": [
            "WARNING:tornado.access:429 POST /v1beta/models/gemini-2.0-flash:generateContent?%24alt=json%3Benum-encoding%3Dint (127.0.0.1) 1068.06ms\n"
          ]
        },
        {
          "name": "stdout",
          "output_type": "stream",
          "text": [
            "[933/1089] Description de : 11367.jpg\n"
          ]
        },
        {
          "name": "stderr",
          "output_type": "stream",
          "text": [
            "WARNING:tornado.access:429 POST /v1beta/models/gemini-2.0-flash:generateContent?%24alt=json%3Benum-encoding%3Dint (127.0.0.1) 1860.13ms\n"
          ]
        },
        {
          "name": "stdout",
          "output_type": "stream",
          "text": [
            "[934/1089] Description de : 1171.jpg\n"
          ]
        },
        {
          "name": "stderr",
          "output_type": "stream",
          "text": [
            "WARNING:tornado.access:429 POST /v1beta/models/gemini-2.0-flash:generateContent?%24alt=json%3Benum-encoding%3Dint (127.0.0.1) 1141.97ms\n"
          ]
        },
        {
          "name": "stdout",
          "output_type": "stream",
          "text": [
            "[935/1089] Description de : 11394.jpg\n"
          ]
        },
        {
          "name": "stderr",
          "output_type": "stream",
          "text": [
            "WARNING:tornado.access:429 POST /v1beta/models/gemini-2.0-flash:generateContent?%24alt=json%3Benum-encoding%3Dint (127.0.0.1) 1471.72ms\n"
          ]
        },
        {
          "name": "stdout",
          "output_type": "stream",
          "text": [
            "[936/1089] Description de : 11357.jpg\n"
          ]
        },
        {
          "name": "stderr",
          "output_type": "stream",
          "text": [
            "WARNING:tornado.access:429 POST /v1beta/models/gemini-2.0-flash:generateContent?%24alt=json%3Benum-encoding%3Dint (127.0.0.1) 710.62ms\n"
          ]
        },
        {
          "name": "stdout",
          "output_type": "stream",
          "text": [
            "[937/1089] Description de : 1172.jpg\n"
          ]
        },
        {
          "name": "stderr",
          "output_type": "stream",
          "text": [
            "WARNING:tornado.access:429 POST /v1beta/models/gemini-2.0-flash:generateContent?%24alt=json%3Benum-encoding%3Dint (127.0.0.1) 1597.47ms\n"
          ]
        },
        {
          "name": "stdout",
          "output_type": "stream",
          "text": [
            "[938/1089] Description de : 11412.jpg\n",
            "[939/1089] Description de : 11390.jpg\n",
            "[940/1089] Description de : 11361.jpg\n",
            "[941/1089] Description de : 11398.jpg\n",
            "[942/1089] Description de : 11389.jpg\n",
            "[943/1089] Description de : 11383.jpg\n",
            "[944/1089] Description de : 1183.jpg\n",
            "[945/1089] Description de : 11379.jpg\n",
            "[946/1089] Description de : 11400.jpg\n",
            "[947/1089] Description de : 118.jpg\n",
            "[948/1089] Description de : 1163.jpg\n",
            "[949/1089] Description de : 116.jpg\n",
            "[950/1089] Description de : 11410.jpg\n",
            "[951/1089] Description de : 114.jpg\n",
            "[952/1089] Description de : 1158.jpg\n",
            "[953/1089] Description de : 119.jpg\n",
            "[954/1089] Description de : 1155.jpg\n"
          ]
        },
        {
          "name": "stderr",
          "output_type": "stream",
          "text": [
            "WARNING:tornado.access:429 POST /v1beta/models/gemini-2.0-flash:generateContent?%24alt=json%3Benum-encoding%3Dint (127.0.0.1) 738.79ms\n"
          ]
        },
        {
          "name": "stdout",
          "output_type": "stream",
          "text": [
            "[955/1089] Description de : 11337.jpg\n"
          ]
        },
        {
          "name": "stderr",
          "output_type": "stream",
          "text": [
            "WARNING:tornado.access:429 POST /v1beta/models/gemini-2.0-flash:generateContent?%24alt=json%3Benum-encoding%3Dint (127.0.0.1) 1119.34ms\n"
          ]
        },
        {
          "name": "stdout",
          "output_type": "stream",
          "text": [
            "[956/1089] Description de : 1144.jpg\n"
          ]
        },
        {
          "name": "stderr",
          "output_type": "stream",
          "text": [
            "WARNING:tornado.access:429 POST /v1beta/models/gemini-2.0-flash:generateContent?%24alt=json%3Benum-encoding%3Dint (127.0.0.1) 407.62ms\n"
          ]
        },
        {
          "name": "stdout",
          "output_type": "stream",
          "text": [
            "[957/1089] Description de : 1146.jpg\n"
          ]
        },
        {
          "name": "stderr",
          "output_type": "stream",
          "text": [
            "WARNING:tornado.access:429 POST /v1beta/models/gemini-2.0-flash:generateContent?%24alt=json%3Benum-encoding%3Dint (127.0.0.1) 786.74ms\n"
          ]
        },
        {
          "name": "stdout",
          "output_type": "stream",
          "text": [
            "[958/1089] Description de : 11343.jpg\n"
          ]
        },
        {
          "name": "stderr",
          "output_type": "stream",
          "text": [
            "WARNING:tornado.access:429 POST /v1beta/models/gemini-2.0-flash:generateContent?%24alt=json%3Benum-encoding%3Dint (127.0.0.1) 887.55ms\n"
          ]
        },
        {
          "name": "stdout",
          "output_type": "stream",
          "text": [
            "[959/1089] Description de : 1198.jpg\n"
          ]
        },
        {
          "name": "stderr",
          "output_type": "stream",
          "text": [
            "WARNING:tornado.access:429 POST /v1beta/models/gemini-2.0-flash:generateContent?%24alt=json%3Benum-encoding%3Dint (127.0.0.1) 964.62ms\n"
          ]
        },
        {
          "name": "stdout",
          "output_type": "stream",
          "text": [
            "[960/1089] Description de : 11408.jpg\n"
          ]
        },
        {
          "name": "stderr",
          "output_type": "stream",
          "text": [
            "WARNING:tornado.access:429 POST /v1beta/models/gemini-2.0-flash:generateContent?%24alt=json%3Benum-encoding%3Dint (127.0.0.1) 1495.67ms\n"
          ]
        },
        {
          "name": "stdout",
          "output_type": "stream",
          "text": [
            "[961/1089] Description de : 1174.jpg\n"
          ]
        },
        {
          "name": "stderr",
          "output_type": "stream",
          "text": [
            "WARNING:tornado.access:429 POST /v1beta/models/gemini-2.0-flash:generateContent?%24alt=json%3Benum-encoding%3Dint (127.0.0.1) 1419.12ms\n"
          ]
        },
        {
          "name": "stdout",
          "output_type": "stream",
          "text": [
            "[962/1089] Description de : 11384.jpg\n"
          ]
        },
        {
          "name": "stderr",
          "output_type": "stream",
          "text": [
            "WARNING:tornado.access:429 POST /v1beta/models/gemini-2.0-flash:generateContent?%24alt=json%3Benum-encoding%3Dint (127.0.0.1) 634.16ms\n"
          ]
        },
        {
          "name": "stdout",
          "output_type": "stream",
          "text": [
            "[963/1089] Description de : 1185.jpg\n"
          ]
        },
        {
          "name": "stderr",
          "output_type": "stream",
          "text": [
            "WARNING:tornado.access:429 POST /v1beta/models/gemini-2.0-flash:generateContent?%24alt=json%3Benum-encoding%3Dint (127.0.0.1) 1473.17ms\n"
          ]
        },
        {
          "name": "stdout",
          "output_type": "stream",
          "text": [
            "[964/1089] Description de : 11401.jpg\n"
          ]
        },
        {
          "name": "stderr",
          "output_type": "stream",
          "text": [
            "WARNING:tornado.access:429 POST /v1beta/models/gemini-2.0-flash:generateContent?%24alt=json%3Benum-encoding%3Dint (127.0.0.1) 2054.40ms\n"
          ]
        },
        {
          "name": "stdout",
          "output_type": "stream",
          "text": [
            "[965/1089] Description de : 1196.jpg\n"
          ]
        },
        {
          "name": "stderr",
          "output_type": "stream",
          "text": [
            "WARNING:tornado.access:429 POST /v1beta/models/gemini-2.0-flash:generateContent?%24alt=json%3Benum-encoding%3Dint (127.0.0.1) 1119.94ms\n"
          ]
        },
        {
          "name": "stdout",
          "output_type": "stream",
          "text": [
            "[966/1089] Description de : 1145.jpg\n"
          ]
        },
        {
          "name": "stderr",
          "output_type": "stream",
          "text": [
            "WARNING:tornado.access:429 POST /v1beta/models/gemini-2.0-flash:generateContent?%24alt=json%3Benum-encoding%3Dint (127.0.0.1) 1396.33ms\n"
          ]
        },
        {
          "name": "stdout",
          "output_type": "stream",
          "text": [
            "[967/1089] Description de : 11348.jpg\n"
          ]
        },
        {
          "name": "stderr",
          "output_type": "stream",
          "text": [
            "WARNING:tornado.access:429 POST /v1beta/models/gemini-2.0-flash:generateContent?%24alt=json%3Benum-encoding%3Dint (127.0.0.1) 964.07ms\n"
          ]
        },
        {
          "name": "stdout",
          "output_type": "stream",
          "text": [
            "[968/1089] Description de : 11391.jpg\n"
          ]
        },
        {
          "name": "stderr",
          "output_type": "stream",
          "text": [
            "WARNING:tornado.access:429 POST /v1beta/models/gemini-2.0-flash:generateContent?%24alt=json%3Benum-encoding%3Dint (127.0.0.1) 1471.15ms\n"
          ]
        },
        {
          "name": "stdout",
          "output_type": "stream",
          "text": [
            "[969/1089] Description de : 11352.jpg\n"
          ]
        },
        {
          "name": "stderr",
          "output_type": "stream",
          "text": [
            "WARNING:tornado.access:429 POST /v1beta/models/gemini-2.0-flash:generateContent?%24alt=json%3Benum-encoding%3Dint (127.0.0.1) 558.00ms\n"
          ]
        },
        {
          "name": "stdout",
          "output_type": "stream",
          "text": [
            "[970/1089] Description de : 11350.jpg\n"
          ]
        },
        {
          "name": "stderr",
          "output_type": "stream",
          "text": [
            "WARNING:tornado.access:429 POST /v1beta/models/gemini-2.0-flash:generateContent?%24alt=json%3Benum-encoding%3Dint (127.0.0.1) 1041.20ms\n"
          ]
        },
        {
          "name": "stdout",
          "output_type": "stream",
          "text": [
            "[971/1089] Description de : 11402.jpg\n"
          ]
        },
        {
          "name": "stderr",
          "output_type": "stream",
          "text": [
            "WARNING:tornado.access:429 POST /v1beta/models/gemini-2.0-flash:generateContent?%24alt=json%3Benum-encoding%3Dint (127.0.0.1) 1849.49ms\n"
          ]
        },
        {
          "name": "stdout",
          "output_type": "stream",
          "text": [
            "[972/1089] Description de : 11366.jpg\n",
            "[973/1089] Description de : 1166.jpg\n",
            "[974/1089] Description de : 11406.jpg\n",
            "[975/1089] Description de : 1143.jpg\n",
            "[976/1089] Description de : 1187.jpg\n",
            "[977/1089] Description de : 1193.jpg\n",
            "[978/1089] Description de : 11385.jpg\n",
            "[979/1089] Description de : 11393.jpg\n",
            "[980/1089] Description de : 1182.jpg\n",
            "[981/1089] Description de : 11333.jpg\n",
            "[982/1089] Description de : 11355.jpg\n",
            "[983/1089] Description de : 11414.jpg\n",
            "[984/1089] Description de : 1159.jpg\n",
            "[985/1089] Description de : 1177.jpg\n",
            "[986/1089] Description de : 11372.jpg\n",
            "[987/1089] Description de : 11407.jpg\n",
            "[988/1089] Description de : 11336.jpg\n"
          ]
        },
        {
          "name": "stderr",
          "output_type": "stream",
          "text": [
            "WARNING:tornado.access:429 POST /v1beta/models/gemini-2.0-flash:generateContent?%24alt=json%3Benum-encoding%3Dint (127.0.0.1) 766.56ms\n"
          ]
        },
        {
          "name": "stdout",
          "output_type": "stream",
          "text": [
            "[989/1089] Description de : 11370.jpg\n"
          ]
        },
        {
          "name": "stderr",
          "output_type": "stream",
          "text": [
            "WARNING:tornado.access:429 POST /v1beta/models/gemini-2.0-flash:generateContent?%24alt=json%3Benum-encoding%3Dint (127.0.0.1) 2160.84ms\n"
          ]
        },
        {
          "name": "stdout",
          "output_type": "stream",
          "text": [
            "[990/1089] Description de : 1168.jpg\n"
          ]
        },
        {
          "name": "stderr",
          "output_type": "stream",
          "text": [
            "WARNING:tornado.access:429 POST /v1beta/models/gemini-2.0-flash:generateContent?%24alt=json%3Benum-encoding%3Dint (127.0.0.1) 1217.98ms\n"
          ]
        },
        {
          "name": "stdout",
          "output_type": "stream",
          "text": [
            "[991/1089] Description de : 11347.jpg\n"
          ]
        },
        {
          "name": "stderr",
          "output_type": "stream",
          "text": [
            "WARNING:tornado.access:429 POST /v1beta/models/gemini-2.0-flash:generateContent?%24alt=json%3Benum-encoding%3Dint (127.0.0.1) 1369.78ms\n"
          ]
        },
        {
          "name": "stdout",
          "output_type": "stream",
          "text": [
            "[992/1089] Description de : 11397.jpg\n"
          ]
        },
        {
          "name": "stderr",
          "output_type": "stream",
          "text": [
            "WARNING:tornado.access:429 POST /v1beta/models/gemini-2.0-flash:generateContent?%24alt=json%3Benum-encoding%3Dint (127.0.0.1) 1220.20ms\n"
          ]
        },
        {
          "name": "stdout",
          "output_type": "stream",
          "text": [
            "[993/1089] Description de : 1195.jpg\n"
          ]
        },
        {
          "name": "stderr",
          "output_type": "stream",
          "text": [
            "WARNING:tornado.access:429 POST /v1beta/models/gemini-2.0-flash:generateContent?%24alt=json%3Benum-encoding%3Dint (127.0.0.1) 483.06ms\n"
          ]
        },
        {
          "name": "stdout",
          "output_type": "stream",
          "text": [
            "[994/1089] Description de : 11381.jpg\n"
          ]
        },
        {
          "name": "stderr",
          "output_type": "stream",
          "text": [
            "WARNING:tornado.access:429 POST /v1beta/models/gemini-2.0-flash:generateContent?%24alt=json%3Benum-encoding%3Dint (127.0.0.1) 837.90ms\n"
          ]
        },
        {
          "name": "stdout",
          "output_type": "stream",
          "text": [
            "[995/1089] Description de : 11335.jpg\n"
          ]
        },
        {
          "name": "stderr",
          "output_type": "stream",
          "text": [
            "WARNING:tornado.access:429 POST /v1beta/models/gemini-2.0-flash:generateContent?%24alt=json%3Benum-encoding%3Dint (127.0.0.1) 1395.47ms\n"
          ]
        },
        {
          "name": "stdout",
          "output_type": "stream",
          "text": [
            "[996/1089] Description de : 11354.jpg\n"
          ]
        },
        {
          "name": "stderr",
          "output_type": "stream",
          "text": [
            "WARNING:tornado.access:429 POST /v1beta/models/gemini-2.0-flash:generateContent?%24alt=json%3Benum-encoding%3Dint (127.0.0.1) 1576.46ms\n"
          ]
        },
        {
          "name": "stdout",
          "output_type": "stream",
          "text": [
            "[997/1089] Description de : 1199.jpg\n"
          ]
        },
        {
          "name": "stderr",
          "output_type": "stream",
          "text": [
            "WARNING:tornado.access:429 POST /v1beta/models/gemini-2.0-flash:generateContent?%24alt=json%3Benum-encoding%3Dint (127.0.0.1) 889.40ms\n"
          ]
        },
        {
          "name": "stdout",
          "output_type": "stream",
          "text": [
            "[998/1089] Description de : 11388.jpg\n"
          ]
        },
        {
          "name": "stderr",
          "output_type": "stream",
          "text": [
            "WARNING:tornado.access:429 POST /v1beta/models/gemini-2.0-flash:generateContent?%24alt=json%3Benum-encoding%3Dint (127.0.0.1) 1066.72ms\n"
          ]
        },
        {
          "name": "stdout",
          "output_type": "stream",
          "text": [
            "[999/1089] Description de : 11373.jpg\n"
          ]
        },
        {
          "name": "stderr",
          "output_type": "stream",
          "text": [
            "WARNING:tornado.access:429 POST /v1beta/models/gemini-2.0-flash:generateContent?%24alt=json%3Benum-encoding%3Dint (127.0.0.1) 762.60ms\n"
          ]
        },
        {
          "name": "stdout",
          "output_type": "stream",
          "text": [
            "[1000/1089] Description de : 1170.jpg\n"
          ]
        },
        {
          "name": "stderr",
          "output_type": "stream",
          "text": [
            "WARNING:tornado.access:429 POST /v1beta/models/gemini-2.0-flash:generateContent?%24alt=json%3Benum-encoding%3Dint (127.0.0.1) 1445.27ms\n"
          ]
        },
        {
          "name": "stdout",
          "output_type": "stream",
          "text": [
            "[1001/1089] Description de : 11371.jpg\n"
          ]
        },
        {
          "name": "stderr",
          "output_type": "stream",
          "text": [
            "WARNING:tornado.access:429 POST /v1beta/models/gemini-2.0-flash:generateContent?%24alt=json%3Benum-encoding%3Dint (127.0.0.1) 1831.22ms\n"
          ]
        },
        {
          "name": "stdout",
          "output_type": "stream",
          "text": [
            "[1002/1089] Description de : 1184.jpg\n"
          ]
        },
        {
          "name": "stderr",
          "output_type": "stream",
          "text": [
            "WARNING:tornado.access:429 POST /v1beta/models/gemini-2.0-flash:generateContent?%24alt=json%3Benum-encoding%3Dint (127.0.0.1) 1523.26ms\n"
          ]
        },
        {
          "name": "stdout",
          "output_type": "stream",
          "text": [
            "[1003/1089] Description de : 1197.jpg\n",
            "[1004/1089] Description de : 11342.jpg\n",
            "[1005/1089] Description de : 11359.jpg\n",
            "[1006/1089] Description de : 11369.jpg\n",
            "[1007/1089] Description de : 11351.jpg\n",
            "[1008/1089] Description de : 115.jpg\n",
            "[1009/1089] Description de : 11386.jpg\n",
            "[1010/1089] Description de : 1140.jpg\n",
            "[1011/1089] Description de : 1160.jpg\n",
            "[1012/1089] Description de : 1135.jpg\n",
            "[1013/1089] Description de : 11375.jpg\n",
            "[1014/1089] Description de : 1192.jpg\n",
            "[1015/1089] Description de : 1136.jpg\n",
            "[1016/1089] Description de : 11380.jpg\n",
            "[1017/1089] Description de : 11346.jpg\n",
            "[1018/1089] Description de : 1164.jpg\n",
            "[1019/1089] Description de : 1175.jpg\n"
          ]
        },
        {
          "name": "stderr",
          "output_type": "stream",
          "text": [
            "WARNING:tornado.access:429 POST /v1beta/models/gemini-2.0-flash:generateContent?%24alt=json%3Benum-encoding%3Dint (127.0.0.1) 1065.13ms\n"
          ]
        },
        {
          "name": "stdout",
          "output_type": "stream",
          "text": [
            "[1020/1089] Description de : 11338.jpg\n"
          ]
        },
        {
          "name": "stderr",
          "output_type": "stream",
          "text": [
            "WARNING:tornado.access:429 POST /v1beta/models/gemini-2.0-flash:generateContent?%24alt=json%3Benum-encoding%3Dint (127.0.0.1) 1369.82ms\n"
          ]
        },
        {
          "name": "stdout",
          "output_type": "stream",
          "text": [
            "[1021/1089] Description de : 11392.jpg\n"
          ]
        },
        {
          "name": "stderr",
          "output_type": "stream",
          "text": [
            "WARNING:tornado.access:429 POST /v1beta/models/gemini-2.0-flash:generateContent?%24alt=json%3Benum-encoding%3Dint (127.0.0.1) 745.69ms\n"
          ]
        },
        {
          "name": "stdout",
          "output_type": "stream",
          "text": [
            "[1022/1089] Description de : 11382.jpg\n"
          ]
        },
        {
          "name": "stderr",
          "output_type": "stream",
          "text": [
            "WARNING:tornado.access:429 POST /v1beta/models/gemini-2.0-flash:generateContent?%24alt=json%3Benum-encoding%3Dint (127.0.0.1) 1045.26ms\n"
          ]
        },
        {
          "name": "stdout",
          "output_type": "stream",
          "text": [
            "[1023/1089] Description de : 11334.jpg\n"
          ]
        },
        {
          "name": "stderr",
          "output_type": "stream",
          "text": [
            "WARNING:tornado.access:429 POST /v1beta/models/gemini-2.0-flash:generateContent?%24alt=json%3Benum-encoding%3Dint (127.0.0.1) 1444.89ms\n"
          ]
        },
        {
          "name": "stdout",
          "output_type": "stream",
          "text": [
            "[1024/1089] Description de : 1186.jpg\n"
          ]
        },
        {
          "name": "stderr",
          "output_type": "stream",
          "text": [
            "WARNING:tornado.access:429 POST /v1beta/models/gemini-2.0-flash:generateContent?%24alt=json%3Benum-encoding%3Dint (127.0.0.1) 989.37ms\n"
          ]
        },
        {
          "name": "stdout",
          "output_type": "stream",
          "text": [
            "[1025/1089] Description de : 1148.jpg\n"
          ]
        },
        {
          "name": "stderr",
          "output_type": "stream",
          "text": [
            "WARNING:tornado.access:429 POST /v1beta/models/gemini-2.0-flash:generateContent?%24alt=json%3Benum-encoding%3Dint (127.0.0.1) 836.82ms\n"
          ]
        },
        {
          "name": "stdout",
          "output_type": "stream",
          "text": [
            "[1026/1089] Description de : 1152.jpg\n"
          ]
        },
        {
          "name": "stderr",
          "output_type": "stream",
          "text": [
            "WARNING:tornado.access:429 POST /v1beta/models/gemini-2.0-flash:generateContent?%24alt=json%3Benum-encoding%3Dint (127.0.0.1) 836.54ms\n"
          ]
        },
        {
          "name": "stdout",
          "output_type": "stream",
          "text": [
            "[1027/1089] Description de : 1161.jpg\n"
          ]
        },
        {
          "name": "stderr",
          "output_type": "stream",
          "text": [
            "WARNING:tornado.access:429 POST /v1beta/models/gemini-2.0-flash:generateContent?%24alt=json%3Benum-encoding%3Dint (127.0.0.1) 1015.26ms\n"
          ]
        },
        {
          "name": "stdout",
          "output_type": "stream",
          "text": [
            "[1028/1089] Description de : 11417.jpg\n"
          ]
        },
        {
          "name": "stderr",
          "output_type": "stream",
          "text": [
            "WARNING:tornado.access:429 POST /v1beta/models/gemini-2.0-flash:generateContent?%24alt=json%3Benum-encoding%3Dint (127.0.0.1) 1039.98ms\n"
          ]
        },
        {
          "name": "stdout",
          "output_type": "stream",
          "text": [
            "[1029/1089] Description de : 11353.jpg\n"
          ]
        },
        {
          "name": "stderr",
          "output_type": "stream",
          "text": [
            "WARNING:tornado.access:429 POST /v1beta/models/gemini-2.0-flash:generateContent?%24alt=json%3Benum-encoding%3Dint (127.0.0.1) 1395.31ms\n"
          ]
        },
        {
          "name": "stdout",
          "output_type": "stream",
          "text": [
            "[1030/1089] Description de : 1178.jpg\n"
          ]
        },
        {
          "name": "stderr",
          "output_type": "stream",
          "text": [
            "WARNING:tornado.access:429 POST /v1beta/models/gemini-2.0-flash:generateContent?%24alt=json%3Benum-encoding%3Dint (127.0.0.1) 1092.87ms\n"
          ]
        },
        {
          "name": "stdout",
          "output_type": "stream",
          "text": [
            "[1031/1089] Description de : 117.jpg\n"
          ]
        },
        {
          "name": "stderr",
          "output_type": "stream",
          "text": [
            "WARNING:tornado.access:429 POST /v1beta/models/gemini-2.0-flash:generateContent?%24alt=json%3Benum-encoding%3Dint (127.0.0.1) 1294.46ms\n"
          ]
        },
        {
          "name": "stdout",
          "output_type": "stream",
          "text": [
            "[1032/1089] Description de : 11404.jpg\n"
          ]
        },
        {
          "name": "stderr",
          "output_type": "stream",
          "text": [
            "WARNING:tornado.access:429 POST /v1beta/models/gemini-2.0-flash:generateContent?%24alt=json%3Benum-encoding%3Dint (127.0.0.1) 1548.68ms\n"
          ]
        },
        {
          "name": "stdout",
          "output_type": "stream",
          "text": [
            "[1033/1089] Description de : 1153.jpg\n"
          ]
        },
        {
          "name": "stderr",
          "output_type": "stream",
          "text": [
            "WARNING:tornado.access:429 POST /v1beta/models/gemini-2.0-flash:generateContent?%24alt=json%3Benum-encoding%3Dint (127.0.0.1) 1449.20ms\n"
          ]
        },
        {
          "name": "stdout",
          "output_type": "stream",
          "text": [
            "[1034/1089] Description de : 1157.jpg\n"
          ]
        },
        {
          "name": "stderr",
          "output_type": "stream",
          "text": [
            "WARNING:tornado.access:429 POST /v1beta/models/gemini-2.0-flash:generateContent?%24alt=json%3Benum-encoding%3Dint (127.0.0.1) 863.19ms\n"
          ]
        },
        {
          "name": "stdout",
          "output_type": "stream",
          "text": [
            "[1035/1089] Description de : 1139.jpg\n"
          ]
        },
        {
          "name": "stderr",
          "output_type": "stream",
          "text": [
            "WARNING:tornado.access:429 POST /v1beta/models/gemini-2.0-flash:generateContent?%24alt=json%3Benum-encoding%3Dint (127.0.0.1) 787.06ms\n"
          ]
        },
        {
          "name": "stdout",
          "output_type": "stream",
          "text": [
            "[1036/1089] Description de : 1150.jpg\n"
          ]
        },
        {
          "name": "stderr",
          "output_type": "stream",
          "text": [
            "WARNING:tornado.access:429 POST /v1beta/models/gemini-2.0-flash:generateContent?%24alt=json%3Benum-encoding%3Dint (127.0.0.1) 685.11ms\n"
          ]
        },
        {
          "name": "stdout",
          "output_type": "stream",
          "text": [
            "[1037/1089] Description de : 11364.jpg\n"
          ]
        },
        {
          "name": "stderr",
          "output_type": "stream",
          "text": [
            "WARNING:tornado.access:429 POST /v1beta/models/gemini-2.0-flash:generateContent?%24alt=json%3Benum-encoding%3Dint (127.0.0.1) 1750.35ms\n"
          ]
        },
        {
          "name": "stdout",
          "output_type": "stream",
          "text": [
            "[1038/1089] Description de : 11416.jpg\n",
            "[1039/1089] Description de : 11356.jpg\n",
            "[1040/1089] Description de : 1167.jpg\n",
            "[1041/1089] Description de : 11415.jpg\n",
            "[1042/1089] Description de : 1191.jpg\n",
            "[1043/1089] Description de : 1181.jpg\n",
            "[1044/1089] Description de : 11344.jpg\n",
            "[1045/1089] Description de : 1165.jpg\n",
            "[1046/1089] Description de : 1194.jpg\n",
            "[1047/1089] Description de : 1151.jpg\n",
            "[1048/1089] Description de : 11345.jpg\n",
            "[1049/1089] Description de : 11360.jpg\n",
            "[1050/1089] Description de : 1190.jpg\n",
            "[1051/1089] Description de : 11374.jpg\n",
            "[1052/1089] Description de : 11411.jpg\n",
            "[1053/1089] Description de : 11405.jpg\n",
            "[1054/1089] Description de : 1189.jpg\n"
          ]
        },
        {
          "name": "stderr",
          "output_type": "stream",
          "text": [
            "WARNING:tornado.access:429 POST /v1beta/models/gemini-2.0-flash:generateContent?%24alt=json%3Benum-encoding%3Dint (127.0.0.1) 1624.99ms\n"
          ]
        },
        {
          "name": "stdout",
          "output_type": "stream",
          "text": [
            "[1055/1089] Description de : 1173.jpg\n"
          ]
        },
        {
          "name": "stderr",
          "output_type": "stream",
          "text": [
            "WARNING:tornado.access:429 POST /v1beta/models/gemini-2.0-flash:generateContent?%24alt=json%3Benum-encoding%3Dint (127.0.0.1) 2058.29ms\n"
          ]
        },
        {
          "name": "stdout",
          "output_type": "stream",
          "text": [
            "[1056/1089] Description de : 11409.jpg\n"
          ]
        },
        {
          "name": "stderr",
          "output_type": "stream",
          "text": [
            "WARNING:tornado.access:429 POST /v1beta/models/gemini-2.0-flash:generateContent?%24alt=json%3Benum-encoding%3Dint (127.0.0.1) 938.30ms\n"
          ]
        },
        {
          "name": "stdout",
          "output_type": "stream",
          "text": [
            "[1057/1089] Description de : 11358.jpg\n"
          ]
        },
        {
          "name": "stderr",
          "output_type": "stream",
          "text": [
            "WARNING:tornado.access:429 POST /v1beta/models/gemini-2.0-flash:generateContent?%24alt=json%3Benum-encoding%3Dint (127.0.0.1) 1613.02ms\n"
          ]
        },
        {
          "name": "stdout",
          "output_type": "stream",
          "text": [
            "[1058/1089] Description de : 11368.jpg\n"
          ]
        },
        {
          "name": "stderr",
          "output_type": "stream",
          "text": [
            "WARNING:tornado.access:429 POST /v1beta/models/gemini-2.0-flash:generateContent?%24alt=json%3Benum-encoding%3Dint (127.0.0.1) 1602.89ms\n"
          ]
        },
        {
          "name": "stdout",
          "output_type": "stream",
          "text": [
            "[1059/1089] Description de : 11365.jpg\n"
          ]
        },
        {
          "name": "stderr",
          "output_type": "stream",
          "text": [
            "WARNING:tornado.access:429 POST /v1beta/models/gemini-2.0-flash:generateContent?%24alt=json%3Benum-encoding%3Dint (127.0.0.1) 1849.86ms\n"
          ]
        },
        {
          "name": "stdout",
          "output_type": "stream",
          "text": [
            "[1060/1089] Description de : 1141.jpg\n"
          ]
        },
        {
          "name": "stderr",
          "output_type": "stream",
          "text": [
            "WARNING:tornado.access:429 POST /v1beta/models/gemini-2.0-flash:generateContent?%24alt=json%3Benum-encoding%3Dint (127.0.0.1) 1292.47ms\n"
          ]
        },
        {
          "name": "stdout",
          "output_type": "stream",
          "text": [
            "[1061/1089] Description de : 11399.jpg\n"
          ]
        },
        {
          "name": "stderr",
          "output_type": "stream",
          "text": [
            "WARNING:tornado.access:429 POST /v1beta/models/gemini-2.0-flash:generateContent?%24alt=json%3Benum-encoding%3Dint (127.0.0.1) 1647.38ms\n"
          ]
        },
        {
          "name": "stdout",
          "output_type": "stream",
          "text": [
            "[1062/1089] Description de : 1147.jpg\n"
          ]
        },
        {
          "name": "stderr",
          "output_type": "stream",
          "text": [
            "WARNING:tornado.access:429 POST /v1beta/models/gemini-2.0-flash:generateContent?%24alt=json%3Benum-encoding%3Dint (127.0.0.1) 1014.29ms\n"
          ]
        },
        {
          "name": "stdout",
          "output_type": "stream",
          "text": [
            "[1063/1089] Description de : 11395.jpg\n"
          ]
        },
        {
          "name": "stderr",
          "output_type": "stream",
          "text": [
            "WARNING:tornado.access:429 POST /v1beta/models/gemini-2.0-flash:generateContent?%24alt=json%3Benum-encoding%3Dint (127.0.0.1) 1369.16ms\n"
          ]
        },
        {
          "name": "stdout",
          "output_type": "stream",
          "text": [
            "[1064/1089] Description de : 11396.jpg\n"
          ]
        },
        {
          "name": "stderr",
          "output_type": "stream",
          "text": [
            "WARNING:tornado.access:429 POST /v1beta/models/gemini-2.0-flash:generateContent?%24alt=json%3Benum-encoding%3Dint (127.0.0.1) 1243.57ms\n"
          ]
        },
        {
          "name": "stdout",
          "output_type": "stream",
          "text": [
            "[1065/1089] Description de : 1188.jpg\n"
          ]
        },
        {
          "name": "stderr",
          "output_type": "stream",
          "text": [
            "WARNING:tornado.access:429 POST /v1beta/models/gemini-2.0-flash:generateContent?%24alt=json%3Benum-encoding%3Dint (127.0.0.1) 864.80ms\n"
          ]
        },
        {
          "name": "stdout",
          "output_type": "stream",
          "text": [
            "[1066/1089] Description de : 11339.jpg\n"
          ]
        },
        {
          "name": "stderr",
          "output_type": "stream",
          "text": [
            "WARNING:tornado.access:429 POST /v1beta/models/gemini-2.0-flash:generateContent?%24alt=json%3Benum-encoding%3Dint (127.0.0.1) 716.58ms\n"
          ]
        },
        {
          "name": "stdout",
          "output_type": "stream",
          "text": [
            "[1067/1089] Description de : 1180.jpg\n"
          ]
        },
        {
          "name": "stderr",
          "output_type": "stream",
          "text": [
            "WARNING:tornado.access:429 POST /v1beta/models/gemini-2.0-flash:generateContent?%24alt=json%3Benum-encoding%3Dint (127.0.0.1) 718.67ms\n"
          ]
        },
        {
          "name": "stdout",
          "output_type": "stream",
          "text": [
            "[1068/1089] Description de : 1137.jpg\n"
          ]
        },
        {
          "name": "stderr",
          "output_type": "stream",
          "text": [
            "WARNING:tornado.access:429 POST /v1beta/models/gemini-2.0-flash:generateContent?%24alt=json%3Benum-encoding%3Dint (127.0.0.1) 1297.80ms\n"
          ]
        },
        {
          "name": "stdout",
          "output_type": "stream",
          "text": [
            "[1069/1089] Description de : 1169.jpg\n"
          ]
        },
        {
          "name": "stderr",
          "output_type": "stream",
          "text": [
            "WARNING:tornado.access:429 POST /v1beta/models/gemini-2.0-flash:generateContent?%24alt=json%3Benum-encoding%3Dint (127.0.0.1) 610.16ms\n"
          ]
        },
        {
          "name": "stdout",
          "output_type": "stream",
          "text": [
            "[1070/1089] Description de : 11349.jpg\n"
          ]
        },
        {
          "name": "stderr",
          "output_type": "stream",
          "text": [
            "WARNING:tornado.access:429 POST /v1beta/models/gemini-2.0-flash:generateContent?%24alt=json%3Benum-encoding%3Dint (127.0.0.1) 989.35ms\n"
          ]
        },
        {
          "name": "stdout",
          "output_type": "stream",
          "text": [
            "[1071/1089] Description de : 11340.jpg\n",
            "[1072/1089] Description de : 1138.jpg\n",
            "[1073/1089] Description de : 1149.jpg\n",
            "[1074/1089] Description de : 11413.jpg\n",
            "[1075/1089] Description de : 1176.jpg\n",
            "[1076/1089] Description de : 1179.jpg\n",
            "[1077/1089] Description de : 1156.jpg\n",
            "[1078/1089] Description de : 11363.jpg\n",
            "[1079/1089] Description de : 1134.jpg\n",
            "[1080/1089] Description de : 11403.jpg\n",
            "[1081/1089] Description de : 11362.jpg\n",
            "[1082/1089] Description de : 1142.jpg\n",
            "[1083/1089] Description de : 11377.jpg\n",
            "[1084/1089] Description de : 1154.jpg\n",
            "[1085/1089] Description de : 11376.jpg\n",
            "[1086/1089] Description de : 11341.jpg\n",
            "[1087/1089] Description de : 11387.jpg\n"
          ]
        },
        {
          "name": "stderr",
          "output_type": "stream",
          "text": [
            "WARNING:tornado.access:429 POST /v1beta/models/gemini-2.0-flash:generateContent?%24alt=json%3Benum-encoding%3Dint (127.0.0.1) 1014.97ms\n"
          ]
        },
        {
          "name": "stdout",
          "output_type": "stream",
          "text": [
            "[1088/1089] Description de : 1162.jpg\n"
          ]
        },
        {
          "name": "stderr",
          "output_type": "stream",
          "text": [
            "WARNING:tornado.access:429 POST /v1beta/models/gemini-2.0-flash:generateContent?%24alt=json%3Benum-encoding%3Dint (127.0.0.1) 737.53ms\n"
          ]
        },
        {
          "name": "stdout",
          "output_type": "stream",
          "text": [
            "[1089/1089] Description de : 11378.jpg\n"
          ]
        },
        {
          "name": "stderr",
          "output_type": "stream",
          "text": [
            "WARNING:tornado.access:429 POST /v1beta/models/gemini-2.0-flash:generateContent?%24alt=json%3Benum-encoding%3Dint (127.0.0.1) 862.35ms\n"
          ]
        },
        {
          "name": "stdout",
          "output_type": "stream",
          "text": [
            "✅ Descriptions enregistrées dans : /content/drive/MyDrive/descriptions_baroque.csv\n"
          ]
        }
      ],
      "source": [
        "data = []\n",
        "\n",
        "for i, path in enumerate(image_paths):\n",
        "    print(f\"[{i+1}/{len(image_paths)}] Description de :\", os.path.basename(path))\n",
        "    description = generate_caption(path)\n",
        "    data.append({\"image\": path, \"description\": description})\n",
        "\n",
        "df = pd.DataFrame(data)\n",
        "output_csv = \"/content/drive/MyDrive/descriptions_baroque.csv\"\n",
        "df.to_csv(output_csv, index=False)\n",
        "print(\"✅ Descriptions enregistrées dans :\", output_csv)\n",
        "\n"
      ]
    }
  ],
  "metadata": {
    "colab": {
      "provenance": []
    },
    "kernelspec": {
      "display_name": "Python 3",
      "name": "python3"
    },
    "language_info": {
      "name": "python"
    }
  },
  "nbformat": 4,
  "nbformat_minor": 0
}
